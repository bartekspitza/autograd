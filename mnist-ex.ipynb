{
 "cells": [
  {
   "cell_type": "code",
   "execution_count": 2,
   "id": "fd50b5f2",
   "metadata": {},
   "outputs": [],
   "source": [
    "from src.tensor import Tensor\n",
    "import src.nn as nn\n",
    "import matplotlib.pyplot as plt\n",
    "import numpy as np\n",
    "from mnist import MNIST\n",
    "np.set_printoptions(suppress=True)"
   ]
  },
  {
   "cell_type": "code",
   "execution_count": 3,
   "id": "c9693099",
   "metadata": {},
   "outputs": [],
   "source": [
    "mndata = MNIST('./mnist_dataset/')\n",
    "mndata.gz = True\n",
    "training, test = mndata.load_training(), mndata.load_testing()"
   ]
  },
  {
   "cell_type": "code",
   "execution_count": 4,
   "id": "b2952772",
   "metadata": {},
   "outputs": [],
   "source": [
    "X = np.array(training[0] + test[0], dtype=float)\n",
    "Y = np.array(list(training[1]) + list(test[1]), dtype=int)\n",
    "\n",
    "# Scale down pixels from 0-255 to 0-1\n",
    "X = X / 255.0\n",
    "\n",
    "# OneHot label vectors\n",
    "one_hot = np.zeros((Y.size, 10)) # (70000, 10)\n",
    "one_hot[np.arange(Y.size), Y] = 1\n",
    "Y = one_hot"
   ]
  },
  {
   "cell_type": "code",
   "execution_count": 5,
   "id": "50df552d",
   "metadata": {},
   "outputs": [
    {
     "name": "stdout",
     "output_type": "stream",
     "text": [
      "Sizes: train=56000, val=7000, test=7000\n"
     ]
    }
   ],
   "source": [
    "# Split\n",
    "n = len(X)\n",
    "tr, d = int(n*0.8), int(n*0.9)\n",
    "Xtr, Xdev, Xte = Tensor(X[:tr]), Tensor(X[tr:d]), Tensor(X[d:])\n",
    "Ytr, Ydev, Yte = Tensor(Y[:tr]), Tensor(Y[tr:d]), Tensor(Y[d:])\n",
    "print(f'Sizes: train={len(Xtr)}, val={len(Xdev)}, test={len(Xte)}')"
   ]
  },
  {
   "cell_type": "code",
   "execution_count": 6,
   "id": "185d55af",
   "metadata": {},
   "outputs": [
    {
     "data": {
      "image/png": "[encoded data removed]",
      "text/plain": [
       "<Figure size 432x288 with 1 Axes>"
      ]
     },
     "metadata": {
      "needs_background": "light"
     },
     "output_type": "display_data"
    }
   ],
   "source": [
    "# Visualize X\n",
    "img = np.array(Xtr[0].tolist())\n",
    "plt.imshow(img.reshape(28, 28),cmap='gray')\n",
    "plt.show()"
   ]
  },
  {
   "cell_type": "code",
   "execution_count": 7,
   "id": "2c8ff148",
   "metadata": {},
   "outputs": [],
   "source": [
    "# Multinomial sampling with replacement\n",
    "rng = np.random.default_rng(seed=1)\n",
    "def draw_batch(batch_size): \n",
    "    draw = lambda: int(rng.random() * len(Xtr))\n",
    "    batch = [draw() for _ in range(batch_size)]\n",
    "    return Xtr[batch], Ytr[batch]\n",
    "\n",
    "def accuracy(split):\n",
    "    x, y = {'train': (Xtr, Ytr), 'dev': (Xdev, Ydev), 'test': (Xte, Yte)}[split]\n",
    "    global mlp\n",
    "    x = mlp(x) # (7000, 10)\n",
    "    correct = (x.data.argmax(1) == y.data.argmax(1)).sum()\n",
    "    acc = (correct / len(x)) * 100\n",
    "    print(f'{split}-accuracy: {acc:.2f}%')"
   ]
  },
  {
   "cell_type": "code",
   "execution_count": 8,
   "id": "f6ad381d",
   "metadata": {},
   "outputs": [],
   "source": [
    "mlp = nn.Sequential((\n",
    "    nn.Linear(784, 724, bias=False), nn.BatchNorm(724),\n",
    "    nn.Tanh(),\n",
    "    nn.Linear(724, 512, bias=False), nn.BatchNorm(512),\n",
    "    nn.Tanh(),\n",
    "    nn.Linear(512, 256, bias=False), nn.BatchNorm(256),\n",
    "    nn.Tanh(),\n",
    "    nn.Linear(256, 128, bias=False), nn.BatchNorm(128),\n",
    "    nn.Tanh(),\n",
    "    nn.Linear(128, 64, bias=False), nn.BatchNorm(64),\n",
    "    nn.Tanh(),\n",
    "    nn.Linear(64, 10, bias=False),\n",
    "    nn.Softmax()\n",
    "))\n",
    "losses = []\n",
    "dev_losses = []"
   ]
  },
  {
   "cell_type": "code",
   "execution_count": 15,
   "id": "29bd7e1f",
   "metadata": {},
   "outputs": [
    {
     "name": "stdout",
     "output_type": "stream",
     "text": [
      "Step 0: train=0.5954711192742712, val=0.6129727840994533\n",
      "Step 1: train=0.8859258214436723, val=0.6135067257550099\n",
      "Step 2: train=0.5118046956699358, val=0.613397617369046\n",
      "Step 3: train=0.982016556419868, val=0.6128332899276725\n",
      "Step 4: train=0.5120913716686795, val=0.6127815476174683\n",
      "Step 5: train=0.574881333880511, val=0.612867670425873\n",
      "Step 6: train=0.9411150823688725, val=0.6129042004965999\n",
      "Step 7: train=0.548142367936194, val=0.6124749050413902\n",
      "Step 8: train=0.33092675630369794, val=0.6121420323275482\n",
      "Step 9: train=0.8504333669016675, val=0.6123610294918883\n",
      "Step 10: train=1.090149342055287, val=0.6120998878803611\n",
      "Step 11: train=0.48345349764399476, val=0.6122022902308012\n",
      "Step 12: train=0.8396902251379827, val=0.6120535181666307\n",
      "Step 13: train=0.7304851307990677, val=0.6117340275458499\n",
      "Step 14: train=1.0516735743021788, val=0.6120810564451167\n",
      "Step 15: train=0.460054352219783, val=0.6122763929152111\n",
      "Step 16: train=0.8416282540369284, val=0.6116245816525959\n",
      "Step 17: train=0.5076363596809969, val=0.611294806119526\n",
      "Step 18: train=0.4497272835714319, val=0.6108461388218177\n",
      "Step 19: train=0.44596747142336407, val=0.610538025237887\n",
      "Step 20: train=0.6669731083664894, val=0.6103702311910505\n",
      "Step 21: train=0.6697174640824377, val=0.6103829057859316\n",
      "Step 22: train=0.5921925576691012, val=0.6101152211993878\n",
      "Step 23: train=0.6640668794097787, val=0.6099873439591363\n",
      "Step 24: train=0.840207618691053, val=0.6098564592111894\n",
      "Step 25: train=0.8490235171667548, val=0.6098583487312974\n",
      "Step 26: train=0.6470909094373974, val=0.6100599514471813\n",
      "Step 27: train=0.3804400658879036, val=0.6098989396999839\n",
      "Step 28: train=0.4451100704898737, val=0.6095095888037915\n",
      "Step 29: train=0.957728623052853, val=0.6097782524721337\n",
      "Step 30: train=1.018524406166029, val=0.6092500131355426\n",
      "Step 31: train=0.8277870888404445, val=0.6093839658579636\n",
      "Step 32: train=1.0561302221663706, val=0.6092935964020055\n",
      "Step 33: train=0.5553778131363751, val=0.6084817955974492\n",
      "Step 34: train=0.47130730275527444, val=0.6081567089329429\n",
      "Step 35: train=0.9914858933553132, val=0.6076878529824604\n",
      "Step 36: train=0.8177891438946445, val=0.6075324246467491\n",
      "Step 37: train=0.8378082941248678, val=0.6072091837132025\n",
      "Step 38: train=0.43389835743873595, val=0.6071444982912375\n",
      "Step 39: train=0.6462168270026323, val=0.6069239065666056\n",
      "Step 40: train=0.90453396049328, val=0.6068617738780577\n",
      "Step 41: train=0.4903750534340188, val=0.6067743777543325\n",
      "Step 42: train=0.4629723692772801, val=0.606823998792827\n",
      "Step 43: train=0.5997207462584739, val=0.6068355026596794\n",
      "Step 44: train=0.7627900546639084, val=0.6070280436559907\n",
      "Step 45: train=0.7779530433501909, val=0.6070109274486001\n",
      "Step 46: train=0.5822732719286206, val=0.6069928317731992\n",
      "Step 47: train=0.5057654649233172, val=0.6069383013975022\n",
      "Step 48: train=0.9930717138535823, val=0.6062878652253306\n",
      "Step 49: train=0.8560447773512923, val=0.6063742683544423\n",
      "Step 50: train=0.5733991881521718, val=0.6060407042508363\n",
      "Step 51: train=0.54951874836683, val=0.6062702888219759\n",
      "Step 52: train=0.2470925416898646, val=0.6062255847167883\n",
      "Step 53: train=0.9999185493110249, val=0.6056355726460485\n",
      "Step 54: train=0.48437170908671723, val=0.6056890610205904\n",
      "Step 55: train=0.6156572838495176, val=0.605674769048577\n",
      "Step 56: train=0.8979690946533696, val=0.6052712338201666\n",
      "Step 57: train=0.9101018128627111, val=0.6049007249553952\n",
      "Step 58: train=0.2735562649108371, val=0.6048861655438652\n",
      "Step 59: train=0.5237410262334057, val=0.6047562708473077\n",
      "Step 60: train=0.5724451786195464, val=0.6049314721930836\n",
      "Step 61: train=0.5501167723268081, val=0.6049198952473721\n",
      "Step 62: train=1.018020059490643, val=0.6051093055449983\n",
      "Step 63: train=0.5377401757360738, val=0.6052093038748472\n",
      "Step 64: train=0.41001778043450693, val=0.6050246742235513\n",
      "Step 65: train=0.7961153404101782, val=0.6051067048688522\n",
      "Step 66: train=0.9674909806295997, val=0.6053295537218674\n",
      "Step 67: train=0.8035363601891699, val=0.6053206076832006\n",
      "Step 68: train=0.8316197930683387, val=0.6052694582334032\n",
      "Step 69: train=0.8114699549135307, val=0.605378217327667\n",
      "Step 70: train=0.4969957393134224, val=0.6054859902107185\n",
      "Step 71: train=0.18392449541842767, val=0.605581314982505\n",
      "Step 72: train=0.6525541445124716, val=0.6052592675025734\n",
      "Step 73: train=0.5680557857431723, val=0.6052200705538162\n",
      "Step 74: train=0.9404466341207788, val=0.6046867516458753\n",
      "Step 75: train=1.0219658532959954, val=0.6041167284120285\n",
      "Step 76: train=0.3429619983251149, val=0.6037233732341278\n",
      "Step 77: train=0.762801908562976, val=0.6037064973099272\n",
      "Step 78: train=0.8264076810574277, val=0.6036083180208749\n",
      "Step 79: train=0.845883826131552, val=0.6036681156479247\n",
      "Step 80: train=0.6156174098153555, val=0.6034544162501206\n",
      "Step 81: train=0.5678503333337177, val=0.6032130575177723\n",
      "Step 82: train=0.6661594595912188, val=0.6030345867700626\n",
      "Step 83: train=1.2268140834495913, val=0.6026432170407131\n",
      "Step 84: train=0.7147506152478575, val=0.6027478870837754\n",
      "Step 85: train=0.5362503241621039, val=0.6028788704531938\n",
      "Step 86: train=0.5223865636255005, val=0.6030289130614133\n",
      "Step 87: train=0.8157876542411847, val=0.6030990474246907\n",
      "Step 88: train=0.4074709703445083, val=0.60300377524977\n",
      "Step 89: train=0.624932366475856, val=0.6027391333473658\n",
      "Step 90: train=0.8883441527868305, val=0.6030143455708946\n",
      "Step 91: train=0.5498702732316483, val=0.6026322216842767\n",
      "Step 92: train=0.38653614268146563, val=0.6024681648607878\n",
      "Step 93: train=0.6259995497787179, val=0.6023967861590128\n",
      "Step 94: train=0.9487324205587616, val=0.602403090870922\n",
      "Step 95: train=0.8999431126380535, val=0.6022989673666832\n",
      "Step 96: train=0.6130916422945184, val=0.6022310707810141\n",
      "Step 97: train=0.44712109672438083, val=0.6019414715621186\n",
      "Step 98: train=0.3608159665132408, val=0.6018192613831307\n",
      "Step 99: train=1.116964846625411, val=0.6018979761761903\n"
     ]
    },
    {
     "data": {
      "image/png": "[encoded data removed]",
      "text/plain": [
       "<Figure size 432x288 with 1 Axes>"
      ]
     },
     "metadata": {
      "needs_background": "light"
     },
     "output_type": "display_data"
    }
   ],
   "source": [
    "steps = 100\n",
    "batch_size = 32\n",
    "lr = 0.01\n",
    "breakpoint = -1\n",
    "for i in range(steps):\n",
    "    x, y = draw_batch(batch_size)\n",
    "    out = mlp(x)\n",
    "\n",
    "    loss = nn.nlll(out, y, reduction='mean')\n",
    "    loss.backward()\n",
    "\n",
    "    mlp.optimize(lr=lr)\n",
    "    mlp.zero_grad()\n",
    "\n",
    "    loss = loss.data.item()\n",
    "    losses.append(loss)\n",
    "    dev_loss = nn.nlll(mlp(Xdev), Ydev, reduction='mean').data.item()\n",
    "    dev_losses.append(dev_loss)\n",
    "    print(f'Step {i}: train={loss}, val={dev_loss}')\n",
    "\n",
    "plt.plot(losses, label='train')\n",
    "plt.plot(dev_losses, label='dev')\n",
    "plt.show()"
   ]
  },
  {
   "cell_type": "code",
   "execution_count": 16,
   "id": "c2563c92",
   "metadata": {},
   "outputs": [
    {
     "name": "stdout",
     "output_type": "stream",
     "text": [
      "dev-accuracy: 81.09%\n"
     ]
    }
   ],
   "source": [
    "accuracy('dev')"
   ]
  },
  {
   "cell_type": "code",
   "execution_count": 17,
   "id": "45bec8f4",
   "metadata": {},
   "outputs": [
    {
     "name": "stdout",
     "output_type": "stream",
     "text": [
      "test-accuracy: 83.46%\n"
     ]
    }
   ],
   "source": [
    "mlp.inference()\n",
    "accuracy('test')"
   ]
  },
  {
   "cell_type": "code",
   "execution_count": null,
   "id": "7a719a1d",
   "metadata": {},
   "outputs": [],
   "source": []
  }
 ],
 "metadata": {
  "kernelspec": {
   "display_name": "Python 3 (ipykernel)",
   "language": "python",
   "name": "python3"
  },
  "language_info": {
   "codemirror_mode": {
    "name": "ipython",
    "version": 3
   },
   "file_extension": ".py",
   "mimetype": "text/x-python",
   "name": "python",
   "nbconvert_exporter": "python",
   "pygments_lexer": "ipython3",
   "version": "3.10.6"
  },
  "vscode": {
   "interpreter": {
    "hash": "916dbcbb3f70747c44a77c7bcd40155683ae19c65e1c03b4aa3499c5328201f1"
   }
  }
 },
 "nbformat": 4,
 "nbformat_minor": 5
}
