{
 "cells": [
  {
   "cell_type": "code",
   "execution_count": 1,
   "id": "fd50b5f2",
   "metadata": {},
   "outputs": [],
   "source": [
    "from src.tensor import Tensor\n",
    "import src.nn as nn\n",
    "import matplotlib.pyplot as plt\n",
    "import numpy as np\n",
    "from mnist import MNIST\n",
    "np.set_printoptions(suppress=True)"
   ]
  },
  {
   "cell_type": "code",
   "execution_count": 2,
   "id": "c9693099",
   "metadata": {},
   "outputs": [],
   "source": [
    "mndata = MNIST('./mnist_dataset/')\n",
    "mndata.gz = True\n",
    "mnist_x_train, mnist_y_train = mndata.load_training()\n",
    "mnist_x_test, mnist_y_test = mndata.load_testing()\n",
    "x_train = Tensor(list(mnist_x_train))\n",
    "x_test = Tensor(list(mnist_x_test))\n",
    "y_train = Tensor(list(mnist_y_train))\n",
    "y_test = Tensor(list(mnist_y_test))"
   ]
  },
  {
   "cell_type": "code",
   "execution_count": 3,
   "id": "b2952772",
   "metadata": {},
   "outputs": [
    {
     "name": "stdout",
     "output_type": "stream",
     "text": [
      "x_train=(60000, 784), y_train=(60000, 10)\n",
      "x_test=(10000, 784), y_test=(10000, 10)\n"
     ]
    }
   ],
   "source": [
    "rng = np.random.default_rng(seed=1)\n",
    "\n",
    "# Scale down pixels from 0-255 to 0-1\n",
    "x_train = x_train / 255\n",
    "x_test = x_test / 255\n",
    "\n",
    "# OneHot label vectors\n",
    "def onehot(vector):\n",
    "    tmp = []\n",
    "    for scalar in vector.data:\n",
    "        tmp2 = [1 if i==scalar else 0 for i in range(10)]\n",
    "        tmp.append(tmp2)\n",
    "    return Tensor(tmp)\n",
    "y_train = onehot(y_train)\n",
    "y_test = onehot(y_test)\n",
    "\n",
    "print(f'x_train={x_train.shape}, y_train={y_train.shape}')\n",
    "print(f'x_test={x_test.shape}, y_test={y_test.shape}')"
   ]
  },
  {
   "cell_type": "code",
   "execution_count": 4,
   "id": "185d55af",
   "metadata": {},
   "outputs": [
    {
     "data": {
      "image/png": "[encoded data removed]",
      "text/plain": [
       "<Figure size 432x288 with 1 Axes>"
      ]
     },
     "metadata": {
      "needs_background": "light"
     },
     "output_type": "display_data"
    }
   ],
   "source": [
    "# Visualize X\n",
    "img = np.array(x_train[0].tolist())\n",
    "plt.imshow(img.reshape(28, 28),cmap='gray')\n",
    "plt.show()"
   ]
  },
  {
   "cell_type": "code",
   "execution_count": 5,
   "id": "2c8ff148",
   "metadata": {},
   "outputs": [],
   "source": [
    "# Multinomial sampling with replacement\n",
    "def draw_batch(batch_size): \n",
    "    draw = lambda: int(rng.random() * x_train.shape[0])\n",
    "    batch = [draw() for _ in range(batch_size)]\n",
    "    return x_train[batch], y_train[batch]\n",
    "\n",
    "mlp = nn.MLP(inputs=784, hidden=[600, 300, 100, 50], outs=10)\n",
    "losses = []"
   ]
  },
  {
   "cell_type": "code",
   "execution_count": 6,
   "id": "29bd7e1f",
   "metadata": {},
   "outputs": [
    {
     "name": "stdout",
     "output_type": "stream",
     "text": [
      "std=9.316260660582286\n",
      "std=23.52816137506638\n",
      "std=16.68377264980892\n",
      "std=9.884888522194084\n",
      "std=6.27834046461413\n",
      "Epoch 0: 10.286955851282016\n"
     ]
    }
   ],
   "source": [
    "epochs = 1\n",
    "batch_size = 100\n",
    "lr = 0.005\n",
    "for e in range(epochs):\n",
    "    x, y = draw_batch(batch_size)\n",
    "    out = mlp(x, debug=(e==0))\n",
    "\n",
    "    loss = nn.nlll(out, y, reduction='mean')\n",
    "\n",
    "    loss.backward()\n",
    "    mlp.train(lr=lr)\n",
    "\n",
    "    losses.append(loss.data.item())\n",
    "    print(f'Epoch {e}: {loss.data.item()}')"
   ]
  },
  {
   "cell_type": "code",
   "execution_count": 19,
   "id": "a6da103a",
   "metadata": {},
   "outputs": [
    {
     "data": {
      "image/png": "[encoded data removed]",
      "text/plain": [
       "<Figure size 432x288 with 1 Axes>"
      ]
     },
     "metadata": {
      "needs_background": "light"
     },
     "output_type": "display_data"
    }
   ],
   "source": [
    "plt.plot(losses)\n",
    "plt.show()"
   ]
  },
  {
   "cell_type": "code",
   "execution_count": 20,
   "id": "4d1fcdd0",
   "metadata": {},
   "outputs": [
    {
     "name": "stdout",
     "output_type": "stream",
     "text": [
      "Test accuracy: 37.44%\n"
     ]
    }
   ],
   "source": [
    "correct = 0\n",
    "for i in range(len(x_test.data)):\n",
    "    y = y_test[i]\n",
    "    x = mlp(x_test[i])\n",
    "    corr = np.argmax(y.data)\n",
    "    predicted = np.argmax(x.data)\n",
    "    if predicted == corr: correct += 1\n",
    "\n",
    "print(f'Test accuracy: {(correct/len(x_test.data))*100}%')"
   ]
  },
  {
   "cell_type": "code",
   "execution_count": null,
   "id": "c638d274",
   "metadata": {},
   "outputs": [],
   "source": []
  }
 ],
 "metadata": {
  "kernelspec": {
   "display_name": "Python 3 (ipykernel)",
   "language": "python",
   "name": "python3"
  },
  "language_info": {
   "codemirror_mode": {
    "name": "ipython",
    "version": 3
   },
   "file_extension": ".py",
   "mimetype": "text/x-python",
   "name": "python",
   "nbconvert_exporter": "python",
   "pygments_lexer": "ipython3",
   "version": "3.10.6"
  },
  "vscode": {
   "interpreter": {
    "hash": "916dbcbb3f70747c44a77c7bcd40155683ae19c65e1c03b4aa3499c5328201f1"
   }
  }
 },
 "nbformat": 4,
 "nbformat_minor": 5
}
