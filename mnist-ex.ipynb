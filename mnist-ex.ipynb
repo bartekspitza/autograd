{
 "cells": [
  {
   "cell_type": "code",
   "execution_count": 1,
   "id": "fd50b5f2",
   "metadata": {},
   "outputs": [],
   "source": [
    "import src.nn as nn\n",
    "import matplotlib.pyplot as plt\n",
    "import numpy as np\n",
    "from mnist import MNIST"
   ]
  },
  {
   "cell_type": "code",
   "execution_count": 2,
   "id": "c9693099",
   "metadata": {},
   "outputs": [],
   "source": [
    "mndata = MNIST('./mnist_dataset/')\n",
    "mndata.gz = True\n",
    "mnist_x_train, mnist_y_train = mndata.load_training()\n",
    "mnist_x_test, mnist_y_test = mndata.load_testing()"
   ]
  },
  {
   "cell_type": "code",
   "execution_count": 3,
   "id": "e65fa1a1",
   "metadata": {},
   "outputs": [],
   "source": [
    "x_train = nn.Tensor(list(mnist_x_train))\n",
    "x_test = nn.Tensor(list(mnist_x_test))\n",
    "y_train = nn.Tensor(list(mnist_y_train))\n",
    "y_test = nn.Tensor(list(mnist_y_test))"
   ]
  },
  {
   "cell_type": "code",
   "execution_count": 4,
   "id": "6c774101",
   "metadata": {},
   "outputs": [],
   "source": [
    "rng = np.random.default_rng(seed=1)"
   ]
  },
  {
   "cell_type": "code",
   "execution_count": 5,
   "id": "b2952772",
   "metadata": {},
   "outputs": [
    {
     "name": "stdout",
     "output_type": "stream",
     "text": [
      "x_train=(60000, 784), y_train=(60000, 10)\n",
      "x_test=(10000, 784), y_test=(10000, 10)\n"
     ]
    }
   ],
   "source": [
    "# Scale down pixels from 0-255 to 0-1\n",
    "x_train = x_train / 255\n",
    "x_test = x_test / 255\n",
    "\n",
    "# OneHot label vectors\n",
    "def onehot(vector):\n",
    "    tmp = []\n",
    "    for scalar in vector.data:\n",
    "        tmp2 = [1 if i==scalar else 0 for i in range(10)]\n",
    "        tmp.append(tmp2)\n",
    "    return nn.Tensor(tmp)\n",
    "y_train = onehot(y_train)\n",
    "y_test = onehot(y_test)\n",
    "\n",
    "print(f'x_train={x_train.shape}, y_train={y_train.shape}')\n",
    "print(f'x_test={x_test.shape}, y_test={y_test.shape}')"
   ]
  },
  {
   "cell_type": "code",
   "execution_count": 6,
   "id": "185d55af",
   "metadata": {},
   "outputs": [
    {
     "data": {
      "image/png": "[encoded data removed]",
      "text/plain": [
       "<Figure size 432x288 with 1 Axes>"
      ]
     },
     "metadata": {
      "needs_background": "light"
     },
     "output_type": "display_data"
    }
   ],
   "source": [
    "# Visualize X\n",
    "img = np.array(x_train[0].tolist())\n",
    "plt.imshow(img.reshape(28, 28))\n",
    "plt.show()"
   ]
  },
  {
   "cell_type": "code",
   "execution_count": 34,
   "id": "dfc587bb",
   "metadata": {},
   "outputs": [],
   "source": [
    "W = nn.Tensor(rng.normal(size=(784, 200)))\n",
    "W2 = nn.Tensor(rng.normal(size=(200, 100)))\n",
    "W3 = nn.Tensor(rng.normal(size=(100, 50)))\n",
    "b = nn.Tensor(rng.normal(size=(200,)))\n",
    "b2 = nn.Tensor(rng.normal(size=(100,)))\n",
    "b3 = nn.Tensor(rng.normal(size=(50,)))\n",
    "O = nn.Tensor(rng.normal(size=(50, 10)))\n",
    "parameters = [W,W2,W3,b,b2,b3,O]\n",
    "losses = []"
   ]
  },
  {
   "cell_type": "code",
   "execution_count": 8,
   "id": "2c8ff148",
   "metadata": {},
   "outputs": [],
   "source": [
    "# Multinomial sampling with replacement\n",
    "def draw_batch(batch_size): \n",
    "    draw = lambda: int(rng.random() * x_train.shape[0])\n",
    "    batch = [draw() for _ in range(batch_size)]\n",
    "    return x_train[batch], y_train[batch]"
   ]
  },
  {
   "cell_type": "code",
   "execution_count": 9,
   "id": "906ea08a",
   "metadata": {},
   "outputs": [],
   "source": [
    "def forward(x):\n",
    "    # L1\n",
    "    x = b + (x@W) # l1\n",
    "    x = x.tanh()\n",
    "    x = b2 + (x@W2)\n",
    "    x = x.tanh()\n",
    "    x = b3 + (x@W3)\n",
    "    x = x.tanh()\n",
    "    # Output with softmax\n",
    "    x = x@O\n",
    "    x = x.exp()\n",
    "\n",
    "    return x / x.sum(axis=x.dim-1).reshape((-1, 1))"
   ]
  },
  {
   "cell_type": "code",
   "execution_count": 52,
   "id": "29bd7e1f",
   "metadata": {},
   "outputs": [
    {
     "name": "stdout",
     "output_type": "stream",
     "text": [
      "Epoch 0: 2.9053389698443692\n",
      "Epoch 1: 2.9665444324940573\n",
      "Epoch 2: 2.974661501343075\n",
      "Epoch 3: 3.096059124942658\n",
      "Epoch 4: 2.9909931880497598\n",
      "Epoch 5: 2.9051473619648345\n",
      "Epoch 6: 3.0434089988979287\n",
      "Epoch 7: 2.950546563950791\n",
      "Epoch 8: 2.9340813276829354\n",
      "Epoch 9: 2.980045807550522\n",
      "Epoch 10: 2.785994723623082\n",
      "Epoch 11: 2.940036659956252\n",
      "Epoch 12: 2.8454774709371886\n",
      "Epoch 13: 2.7518769662113867\n",
      "Epoch 14: 2.8925616206645883\n",
      "Epoch 15: 3.031544090949765\n",
      "Epoch 16: 2.8804147708777954\n",
      "Epoch 17: 2.9559391367555055\n",
      "Epoch 18: 2.8744003824594455\n",
      "Epoch 19: 2.8705555605749367\n"
     ]
    }
   ],
   "source": [
    "epochs = 20\n",
    "batch_size = 1000\n",
    "lr = 0.1\n",
    "for e in range(epochs):\n",
    "    x, y = draw_batch(batch_size)\n",
    "\n",
    "    # Forward\n",
    "    out = forward(x)\n",
    "\n",
    "    # Predictions\n",
    "    y_pred = out*y\n",
    "    \n",
    "    # Loss\n",
    "    maximum_likelihood = (y*y_pred).sum(axis=1)\n",
    "    neg_log_loss = -1 * maximum_likelihood.log()\n",
    "    nll = neg_log_loss.sum() \n",
    "    loss = nll / batch_size\n",
    "    losses.append(loss.data.item())\n",
    "    print(f'Epoch {e}: {loss.data.item()}')\n",
    "\n",
    "    # Compute gradients\n",
    "    loss.grad = np.array([1])\n",
    "    loss.backward()\n",
    "    \n",
    "    # Learn\n",
    "    for p in parameters:\n",
    "        p.data -= lr * p.grad\n",
    "        p.grad = np.zeros(p.shape)"
   ]
  },
  {
   "cell_type": "code",
   "execution_count": 53,
   "id": "a6da103a",
   "metadata": {},
   "outputs": [
    {
     "data": {
      "image/png": "[encoded data removed]",
      "text/plain": [
       "<Figure size 432x288 with 1 Axes>"
      ]
     },
     "metadata": {
      "needs_background": "light"
     },
     "output_type": "display_data"
    }
   ],
   "source": [
    "plt.plot(losses)\n",
    "plt.show()"
   ]
  },
  {
   "cell_type": "code",
   "execution_count": 54,
   "id": "4d1fcdd0",
   "metadata": {},
   "outputs": [
    {
     "name": "stdout",
     "output_type": "stream",
     "text": [
      "Test accuracy: 0.4526\n"
     ]
    }
   ],
   "source": [
    "correct = 0\n",
    "for i in range(len(x_test.data)):\n",
    "    y = y_test[i]\n",
    "    x = forward(x_test[i])\n",
    "    corr = np.argmax(y.data)\n",
    "    predicted = np.argmax(x.data)\n",
    "    if predicted == corr: correct += 1\n",
    "\n",
    "print(f'Test accuracy: {correct/len(x_test.data)}')"
   ]
  },
  {
   "cell_type": "code",
   "execution_count": null,
   "id": "c638d274",
   "metadata": {},
   "outputs": [],
   "source": []
  }
 ],
 "metadata": {
  "kernelspec": {
   "display_name": "Python 3 (ipykernel)",
   "language": "python",
   "name": "python3"
  },
  "language_info": {
   "codemirror_mode": {
    "name": "ipython",
    "version": 3
   },
   "file_extension": ".py",
   "mimetype": "text/x-python",
   "name": "python",
   "nbconvert_exporter": "python",
   "pygments_lexer": "ipython3",
   "version": "3.10.6"
  },
  "vscode": {
   "interpreter": {
    "hash": "916dbcbb3f70747c44a77c7bcd40155683ae19c65e1c03b4aa3499c5328201f1"
   }
  }
 },
 "nbformat": 4,
 "nbformat_minor": 5
}
