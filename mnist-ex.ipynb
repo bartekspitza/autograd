{
 "cells": [
  {
   "cell_type": "code",
   "execution_count": 1,
   "id": "fd50b5f2",
   "metadata": {},
   "outputs": [],
   "source": [
    "from src.tensor import Tensor\n",
    "import src.nn as nn\n",
    "import matplotlib.pyplot as plt\n",
    "import numpy as np\n",
    "from mnist import MNIST\n",
    "np.set_printoptions(suppress=True)"
   ]
  },
  {
   "cell_type": "code",
   "execution_count": 2,
   "id": "c9693099",
   "metadata": {},
   "outputs": [],
   "source": [
    "mndata = MNIST('./mnist_dataset/')\n",
    "mndata.gz = True\n",
    "training, test = mndata.load_training(), mndata.load_testing()"
   ]
  },
  {
   "cell_type": "code",
   "execution_count": 3,
   "id": "b2952772",
   "metadata": {},
   "outputs": [],
   "source": [
    "X = np.array(training[0] + test[0], dtype=float)\n",
    "Y = np.array(list(training[1]) + list(test[1]), dtype=int)\n",
    "\n",
    "# Scale down pixels from 0-255 to 0-1\n",
    "X = X / 255.0\n",
    "\n",
    "# OneHot label vectors\n",
    "one_hot = np.zeros((Y.size, 10)) # (70000, 10)\n",
    "one_hot[np.arange(Y.size), Y] = 1\n",
    "Y = one_hot"
   ]
  },
  {
   "cell_type": "code",
   "execution_count": 4,
   "id": "50df552d",
   "metadata": {},
   "outputs": [
    {
     "name": "stdout",
     "output_type": "stream",
     "text": [
      "Sizes: train=56000, val=7000, test=7000\n"
     ]
    }
   ],
   "source": [
    "# Split\n",
    "n = len(X)\n",
    "tr, d = int(n*0.8), int(n*0.9)\n",
    "Xtr, Xdev, Xte = Tensor(X[:tr]), Tensor(X[tr:d]), Tensor(X[d:])\n",
    "Ytr, Ydev, Yte = Tensor(Y[:tr]), Tensor(Y[tr:d]), Tensor(Y[d:])\n",
    "print(f'Sizes: train={len(Xtr)}, val={len(Xdev)}, test={len(Xte)}')"
   ]
  },
  {
   "cell_type": "code",
   "execution_count": 5,
   "id": "185d55af",
   "metadata": {},
   "outputs": [
    {
     "data": {
      "image/png": "[encoded data removed]",
      "text/plain": [
       "<Figure size 432x288 with 1 Axes>"
      ]
     },
     "metadata": {
      "needs_background": "light"
     },
     "output_type": "display_data"
    }
   ],
   "source": [
    "# Visualize X\n",
    "img = np.array(Xtr[0].tolist())\n",
    "plt.imshow(img.reshape(28, 28),cmap='gray')\n",
    "plt.show()"
   ]
  },
  {
   "cell_type": "code",
   "execution_count": 6,
   "id": "2c8ff148",
   "metadata": {},
   "outputs": [],
   "source": [
    "# Multinomial sampling with replacement\n",
    "rng = np.random.default_rng(seed=1)\n",
    "def draw_batch(batch_size): \n",
    "    draw = lambda: int(rng.random() * len(Xtr))\n",
    "    batch = [draw() for _ in range(batch_size)]\n",
    "    return Xtr[batch], Ytr[batch]\n",
    "\n",
    "def accuracy(split):\n",
    "    x, y = {'train': (Xtr, Ytr), 'dev': (Xdev, Ydev), 'test': (Xte, Yte)}[split]\n",
    "    global mlp\n",
    "    x = mlp(x) # (7000, 10)\n",
    "    correct = (x.data.argmax(1) == y.data.argmax(1)).sum()\n",
    "    acc = (correct / len(x)) * 100\n",
    "    print(f'{split}-accuracy: {acc:.2f}%')"
   ]
  },
  {
   "cell_type": "code",
   "execution_count": 14,
   "id": "f6ad381d",
   "metadata": {},
   "outputs": [],
   "source": [
    "mlp = nn.Sequential((\n",
    "    nn.Linear(784, 512), nn.BatchNorm(512),\n",
    "    nn.Tanh(),\n",
    "    nn.Linear(512, 256), nn.BatchNorm(256),\n",
    "    nn.Tanh(),\n",
    "    nn.Linear(256, 128), nn.BatchNorm(128),\n",
    "    nn.Tanh(),\n",
    "    nn.Linear(128, 10, bias=False),\n",
    "    nn.Softmax()\n",
    "))\n",
    "losses = []\n",
    "dev_losses = []"
   ]
  },
  {
   "cell_type": "code",
   "execution_count": 31,
   "id": "29bd7e1f",
   "metadata": {},
   "outputs": [
    {
     "name": "stdout",
     "output_type": "stream",
     "text": [
      "Step 0: train=0.6065585730377365, val=0.8806110082259978\n",
      "Step 1: train=1.0414793513771066, val=0.8805401534484362\n",
      "Step 2: train=1.6646895936640909, val=0.8800021991305803\n",
      "Step 3: train=1.3054457391584955, val=0.8799196110491749\n",
      "Step 4: train=0.8740657951531285, val=0.8798204489615181\n",
      "Step 5: train=1.4233773802354197, val=0.8797895244482011\n",
      "Step 6: train=1.797569809661539, val=0.8794988119766433\n",
      "Step 7: train=1.1475553744322715, val=0.8793046438154779\n",
      "Step 8: train=0.9401995519332993, val=0.879125485701698\n",
      "Step 9: train=1.16693280939977, val=0.8789395589439076\n",
      "Step 10: train=0.41007396314012656, val=0.8787993978671825\n",
      "Step 11: train=1.3971861375376744, val=0.8784161584698186\n",
      "Step 12: train=1.574401264602332, val=0.8780658591466979\n",
      "Step 13: train=1.114226607597487, val=0.8779668275775354\n",
      "Step 14: train=1.4697839472108534, val=0.8778560908875799\n",
      "Step 15: train=1.3322305286274196, val=0.877592377902664\n",
      "Step 16: train=0.43019565738808546, val=0.8776214186334398\n",
      "Step 17: train=1.03742361148592, val=0.8776587785404849\n",
      "Step 18: train=0.8515043655861496, val=0.8775993833945961\n",
      "Step 19: train=1.355969365777379, val=0.8774282555589937\n"
     ]
    },
    {
     "data": {
      "image/png": "[encoded data removed]",
      "text/plain": [
       "<Figure size 432x288 with 1 Axes>"
      ]
     },
     "metadata": {
      "needs_background": "light"
     },
     "output_type": "display_data"
    }
   ],
   "source": [
    "steps = 20\n",
    "batch_size = 32\n",
    "lr = 0.001\n",
    "breakpoint = -1\n",
    "for i in range(steps):\n",
    "    x, y = draw_batch(batch_size)\n",
    "    out = mlp(x)\n",
    "\n",
    "    loss = nn.nlll(out, y, reduction='mean')\n",
    "    loss.backward()\n",
    "\n",
    "    mlp.optimize(lr=lr)\n",
    "    mlp.zero_grad()\n",
    "\n",
    "    loss = loss.data.item()\n",
    "    losses.append(loss)\n",
    "    dev_loss = nn.nlll(mlp(Xdev), Ydev, reduction='mean').data.item()\n",
    "    dev_losses.append(dev_loss)\n",
    "    print(f'Step {i}: train={loss}, val={dev_loss}')\n",
    "\n",
    "plt.plot(losses, label='train')\n",
    "plt.plot(dev_losses, label='dev')\n",
    "plt.show()"
   ]
  },
  {
   "cell_type": "code",
   "execution_count": 30,
   "id": "c2563c92",
   "metadata": {},
   "outputs": [
    {
     "name": "stdout",
     "output_type": "stream",
     "text": [
      "dev-accuracy: 79.90%\n"
     ]
    }
   ],
   "source": [
    "accuracy('dev')"
   ]
  },
  {
   "cell_type": "code",
   "execution_count": 32,
   "id": "45bec8f4",
   "metadata": {},
   "outputs": [
    {
     "name": "stdout",
     "output_type": "stream",
     "text": [
      "test-accuracy: 82.87%\n"
     ]
    }
   ],
   "source": [
    "mlp.inference()\n",
    "accuracy('test')"
   ]
  },
  {
   "cell_type": "code",
   "execution_count": null,
   "id": "7a719a1d",
   "metadata": {},
   "outputs": [],
   "source": []
  }
 ],
 "metadata": {
  "kernelspec": {
   "display_name": "Python 3 (ipykernel)",
   "language": "python",
   "name": "python3"
  },
  "language_info": {
   "codemirror_mode": {
    "name": "ipython",
    "version": 3
   },
   "file_extension": ".py",
   "mimetype": "text/x-python",
   "name": "python",
   "nbconvert_exporter": "python",
   "pygments_lexer": "ipython3",
   "version": "3.10.6"
  },
  "vscode": {
   "interpreter": {
    "hash": "916dbcbb3f70747c44a77c7bcd40155683ae19c65e1c03b4aa3499c5328201f1"
   }
  }
 },
 "nbformat": 4,
 "nbformat_minor": 5
}
