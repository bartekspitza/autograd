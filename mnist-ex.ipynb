{
 "cells": [
  {
   "cell_type": "code",
   "execution_count": 16,
   "id": "e22efaf2",
   "metadata": {},
   "outputs": [],
   "source": [
    "from mnist import MNIST\n",
    "from nn import Tensor"
   ]
  },
  {
   "cell_type": "code",
   "execution_count": 25,
   "id": "18378442",
   "metadata": {},
   "outputs": [],
   "source": [
    "mndata = MNIST('./mnist-example/')\n",
    "mndata.gz = True\n",
    "\n",
    "x_train, y_train = mndata.load_training()\n",
    "x_test, y_test = mndata.load_testing()\n",
    "\n",
    "x_train = Tensor(x_train)\n",
    "x_test = Tensor(x_test)\n",
    "y_train = Tensor(y_train)\n",
    "y_test = Tensor(y_test)"
   ]
  },
  {
   "cell_type": "code",
   "execution_count": 26,
   "id": "d11a4105",
   "metadata": {},
   "outputs": [
    {
     "ename": "TypeError",
     "evalue": "'Tensor' object is not subscriptable",
     "output_type": "error",
     "traceback": [
      "\u001b[0;31m---------------------------------------------------------------------------\u001b[0m",
      "\u001b[0;31mTypeError\u001b[0m                                 Traceback (most recent call last)",
      "Input \u001b[0;32mIn [26]\u001b[0m, in \u001b[0;36m<cell line: 1>\u001b[0;34m()\u001b[0m\n\u001b[0;32m----> 1\u001b[0m \u001b[38;5;28mlen\u001b[39m(\u001b[43mx_train\u001b[49m\u001b[43m[\u001b[49m\u001b[38;5;241;43m0\u001b[39;49m\u001b[43m]\u001b[49m)\n",
      "\u001b[0;31mTypeError\u001b[0m: 'Tensor' object is not subscriptable"
     ]
    }
   ],
   "source": [
    "len(x_train[0])"
   ]
  },
  {
   "cell_type": "code",
   "execution_count": 22,
   "id": "48775863",
   "metadata": {},
   "outputs": [],
   "source": [
    "x_train = Tensor(x_train)"
   ]
  },
  {
   "cell_type": "code",
   "execution_count": 24,
   "id": "2c1d35ae",
   "metadata": {},
   "outputs": [
    {
     "data": {
      "text/plain": [
       "nn.Tensor"
      ]
     },
     "execution_count": 24,
     "metadata": {},
     "output_type": "execute_result"
    }
   ],
   "source": [
    "type(x_train)"
   ]
  },
  {
   "cell_type": "code",
   "execution_count": null,
   "id": "a3ab9524",
   "metadata": {},
   "outputs": [],
   "source": []
  }
 ],
 "metadata": {
  "kernelspec": {
   "display_name": "Python 3 (ipykernel)",
   "language": "python",
   "name": "python3"
  },
  "language_info": {
   "codemirror_mode": {
    "name": "ipython",
    "version": 3
   },
   "file_extension": ".py",
   "mimetype": "text/x-python",
   "name": "python",
   "nbconvert_exporter": "python",
   "pygments_lexer": "ipython3",
   "version": "3.10.6"
  }
 },
 "nbformat": 4,
 "nbformat_minor": 5
}
