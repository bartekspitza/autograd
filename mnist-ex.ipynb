{
 "cells": [
  {
   "cell_type": "code",
   "execution_count": 1,
   "id": "fd50b5f2",
   "metadata": {},
   "outputs": [],
   "source": [
    "from src.tensor import Tensor\n",
    "import src.nn as nn\n",
    "import matplotlib.pyplot as plt\n",
    "import numpy as np\n",
    "from mnist import MNIST\n",
    "np.set_printoptions(suppress=True)"
   ]
  },
  {
   "cell_type": "code",
   "execution_count": 2,
   "id": "c9693099",
   "metadata": {},
   "outputs": [],
   "source": [
    "mndata = MNIST('./mnist_dataset/')\n",
    "mndata.gz = True\n",
    "mnist_x_train, mnist_y_train = mndata.load_training()\n",
    "mnist_x_test, mnist_y_test = mndata.load_testing()\n",
    "x_train = Tensor(list(mnist_x_train))\n",
    "x_test = Tensor(list(mnist_x_test))\n",
    "y_train = Tensor(list(mnist_y_train))\n",
    "y_test = Tensor(list(mnist_y_test))"
   ]
  },
  {
   "cell_type": "code",
   "execution_count": 3,
   "id": "b2952772",
   "metadata": {},
   "outputs": [
    {
     "name": "stdout",
     "output_type": "stream",
     "text": [
      "x_train=(60000, 784), y_train=(60000, 10)\n",
      "x_test=(10000, 784), y_test=(10000, 10)\n"
     ]
    }
   ],
   "source": [
    "rng = np.random.default_rng(seed=1)\n",
    "\n",
    "# Scale down pixels from 0-255 to 0-1\n",
    "x_train = x_train / 255\n",
    "x_test = x_test / 255\n",
    "\n",
    "# OneHot label vectors\n",
    "def onehot(vector):\n",
    "    tmp = []\n",
    "    for scalar in vector.data:\n",
    "        tmp2 = [1 if i==scalar else 0 for i in range(10)]\n",
    "        tmp.append(tmp2)\n",
    "    return Tensor(tmp)\n",
    "y_train = onehot(y_train)\n",
    "y_test = onehot(y_test)\n",
    "\n",
    "print(f'x_train={x_train.shape}, y_train={y_train.shape}')\n",
    "print(f'x_test={x_test.shape}, y_test={y_test.shape}')"
   ]
  },
  {
   "cell_type": "code",
   "execution_count": 4,
   "id": "185d55af",
   "metadata": {},
   "outputs": [
    {
     "data": {
      "image/png": "[encoded data removed]",
      "text/plain": [
       "<Figure size 432x288 with 1 Axes>"
      ]
     },
     "metadata": {
      "needs_background": "light"
     },
     "output_type": "display_data"
    }
   ],
   "source": [
    "# Visualize X\n",
    "img = np.array(x_train[0].tolist())\n",
    "plt.imshow(img.reshape(28, 28),cmap='gray')\n",
    "plt.show()"
   ]
  },
  {
   "cell_type": "code",
   "execution_count": 21,
   "id": "2c8ff148",
   "metadata": {},
   "outputs": [],
   "source": [
    "# Multinomial sampling with replacement\n",
    "def draw_batch(batch_size): \n",
    "    draw = lambda: int(rng.random() * x_train.shape[0])\n",
    "    batch = [draw() for _ in range(batch_size)]\n",
    "    return x_train[batch], y_train[batch]\n",
    "\n",
    "mlp = nn.MLP((\n",
    "    nn.Linear(784, 512),\n",
    "    nn.Tanh(),\n",
    "    nn.Linear(512, 256),\n",
    "    nn.Tanh(),\n",
    "    nn.Linear(256, 10, bias=False),\n",
    "    nn.Softmax()\n",
    "))\n",
    "mlp[0].W = mlp[0].W * 0.11\n",
    "mlp[2].W = mlp[2].W * 0.07\n",
    "losses = []"
   ]
  },
  {
   "cell_type": "code",
   "execution_count": 22,
   "id": "29bd7e1f",
   "metadata": {},
   "outputs": [
    {
     "name": "stdout",
     "output_type": "stream",
     "text": [
      "std=1.0314052922535408\n",
      "std=0.9594056701248558\n",
      "std=10.912434156434799\n",
      "Epoch 0: 16.360450459584534\n",
      "Epoch 1: 27.310997555405386\n",
      "Epoch 2: 40.349010437534005\n",
      "Epoch 3: 33.92315791087334\n",
      "Epoch 4: 37.839748787657456\n",
      "Epoch 5: 52.27123401532268\n",
      "Epoch 6: 42.153990134360704\n",
      "Epoch 7: 49.62047490812951\n",
      "Epoch 8: 21.84644156310128\n",
      "Epoch 9: 33.873867894652555\n",
      "Epoch 10: 18.057870132105663\n",
      "Epoch 11: 17.410642785823903\n",
      "Epoch 12: 22.7055093197589\n",
      "Epoch 13: 12.527545626902823\n",
      "Epoch 14: 18.812059199280927\n",
      "Epoch 15: 12.792002091611492\n",
      "Epoch 16: 13.230300270652762\n",
      "Epoch 17: 12.794174732137238\n",
      "Epoch 18: 10.583093924428596\n",
      "Epoch 19: 6.906472695788104\n",
      "Epoch 20: 12.865081900912019\n",
      "Epoch 21: 9.46662141280245\n",
      "Epoch 22: 7.1725297811317965\n",
      "Epoch 23: 13.65030962355433\n",
      "Epoch 24: 9.544784276014777\n",
      "Epoch 25: 4.897358204175234\n",
      "Epoch 26: 5.444713377558163\n",
      "Epoch 27: 4.709949515722001\n",
      "Epoch 28: 5.217839898180293\n",
      "Epoch 29: 4.678662053368921\n",
      "Epoch 30: 7.54359031727765\n",
      "Epoch 31: 6.914049947142322\n",
      "Epoch 32: 2.9012109719443364\n",
      "Epoch 33: 7.1456272560870175\n",
      "Epoch 34: 4.631677602309173\n",
      "Epoch 35: 5.3383928987341225\n",
      "Epoch 36: 3.5365682713091977\n",
      "Epoch 37: 3.645751798350145\n",
      "Epoch 38: 2.462875864131056\n",
      "Epoch 39: 1.2675014997519236\n",
      "Epoch 40: 1.123904005977399\n",
      "Epoch 41: 2.257480350079464\n",
      "Epoch 42: 1.2317774903058787\n",
      "Epoch 43: 1.1705719112959034\n",
      "Epoch 44: 1.280770571028095\n",
      "Epoch 45: 1.7885979178648692\n",
      "Epoch 46: 1.1225949748524844\n",
      "Epoch 47: 1.492599996103494\n",
      "Epoch 48: 0.9964084262382548\n",
      "Epoch 49: 1.4713875982860003\n",
      "Epoch 50: 2.7988294173979402\n",
      "Epoch 51: 1.906817594666605\n",
      "Epoch 52: 1.2174451273644888\n",
      "Epoch 53: 1.886524782121967\n",
      "Epoch 54: 1.24440141603921\n",
      "Epoch 55: 0.453507965232823\n",
      "Epoch 56: 1.140390920794943\n",
      "Epoch 57: 1.3471654088181562\n",
      "Epoch 58: 1.4768402268390226\n",
      "Epoch 59: 1.064585317326562\n",
      "Epoch 60: 0.5628872488341086\n",
      "Epoch 61: 0.6957315546973273\n",
      "Epoch 62: 0.6155014988796024\n",
      "Epoch 63: 0.6776664968275199\n",
      "Epoch 64: 0.5527331451609256\n",
      "Epoch 65: 0.24028820197353254\n",
      "Epoch 66: 0.6381967344300146\n",
      "Epoch 67: 1.7738734283677646\n",
      "Epoch 68: 0.8027643821328897\n",
      "Epoch 69: 0.7070316452144167\n",
      "Epoch 70: 0.6328641819984817\n",
      "Epoch 71: 1.2371430579021783\n",
      "Epoch 72: 0.9483344262086659\n",
      "Epoch 73: 0.9814704946814536\n",
      "Epoch 74: 1.2451892332690293\n",
      "Epoch 75: 0.7047805586022778\n",
      "Epoch 76: 0.9834460407833183\n",
      "Epoch 77: 1.1609968750771988\n",
      "Epoch 78: 0.975291625385131\n",
      "Epoch 79: 0.9995188327031846\n",
      "Epoch 80: 0.7486809801622936\n",
      "Epoch 81: 1.9256946024747044\n",
      "Epoch 82: 1.2382800601124417\n",
      "Epoch 83: 0.6975773767990097\n",
      "Epoch 84: 1.0832490045025835\n",
      "Epoch 85: 0.38953213649197305\n",
      "Epoch 86: 0.7457499410094108\n",
      "Epoch 87: 1.6677480507514586\n",
      "Epoch 88: 0.4960405055315059\n",
      "Epoch 89: 0.6063257142418661\n",
      "Epoch 90: 0.7324591893609304\n",
      "Epoch 91: 0.2971895574048232\n",
      "Epoch 92: 0.45244083405613467\n",
      "Epoch 93: 2.1042895866262827\n",
      "Epoch 94: 1.1618471473817884\n",
      "Epoch 95: 0.9164099759392588\n",
      "Epoch 96: 0.581643250635266\n",
      "Epoch 97: 0.4832201960774193\n",
      "Epoch 98: 1.2479834679385147\n",
      "Epoch 99: 1.1142974735930373\n"
     ]
    },
    {
     "data": {
      "image/png": "[encoded data removed]",
      "text/plain": [
       "<Figure size 432x288 with 1 Axes>"
      ]
     },
     "metadata": {
      "needs_background": "light"
     },
     "output_type": "display_data"
    }
   ],
   "source": [
    "epochs = 100\n",
    "batch_size = 32\n",
    "lr = 0.1\n",
    "breakpoint = -1\n",
    "for e in range(epochs):\n",
    "    x, y = draw_batch(batch_size)\n",
    "    out = mlp(x, breakpoint=breakpoint, printstddev=(e==0))\n",
    "\n",
    "    loss = nn.nlll(out, y, reduction='mean')\n",
    "    loss.backward()\n",
    "    mlp.optimize(lr=lr)\n",
    "    mlp.zero_grad()\n",
    "\n",
    "    losses.append(loss.data.item())\n",
    "    print(f'Epoch {e}: {loss.data.item()}')\n",
    "\n",
    "plt.plot(losses)\n",
    "plt.show()"
   ]
  },
  {
   "cell_type": "code",
   "execution_count": 24,
   "id": "4d1fcdd0",
   "metadata": {},
   "outputs": [
    {
     "name": "stdout",
     "output_type": "stream",
     "text": [
      "Test accuracy: 81.02000000000001%\n"
     ]
    }
   ],
   "source": [
    "correct = 0\n",
    "for i in range(len(x_test)):\n",
    "    y = y_test[i]\n",
    "    x = mlp(x_test[i])\n",
    "    corr = np.argmax(y.data)\n",
    "    predicted = np.argmax(x.data)\n",
    "    if predicted == corr: correct += 1\n",
    "\n",
    "print(f'Test accuracy: {(correct/len(x_test.data))*100}%')"
   ]
  },
  {
   "cell_type": "code",
   "execution_count": null,
   "id": "a9e91f0b",
   "metadata": {},
   "outputs": [],
   "source": []
  }
 ],
 "metadata": {
  "kernelspec": {
   "display_name": "Python 3 (ipykernel)",
   "language": "python",
   "name": "python3"
  },
  "language_info": {
   "codemirror_mode": {
    "name": "ipython",
    "version": 3
   },
   "file_extension": ".py",
   "mimetype": "text/x-python",
   "name": "python",
   "nbconvert_exporter": "python",
   "pygments_lexer": "ipython3",
   "version": "3.10.6"
  },
  "vscode": {
   "interpreter": {
    "hash": "916dbcbb3f70747c44a77c7bcd40155683ae19c65e1c03b4aa3499c5328201f1"
   }
  }
 },
 "nbformat": 4,
 "nbformat_minor": 5
}
