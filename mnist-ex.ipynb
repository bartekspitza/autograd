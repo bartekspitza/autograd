{
 "cells": [
  {
   "cell_type": "code",
   "execution_count": 1,
   "id": "fd50b5f2",
   "metadata": {},
   "outputs": [],
   "source": [
    "from src.tensor import Tensor\n",
    "import src.nn as nn\n",
    "import matplotlib.pyplot as plt\n",
    "import numpy as np\n",
    "from mnist import MNIST\n",
    "np.set_printoptions(suppress=True)"
   ]
  },
  {
   "cell_type": "code",
   "execution_count": 2,
   "id": "c9693099",
   "metadata": {},
   "outputs": [],
   "source": [
    "mndata = MNIST('./mnist_dataset/')\n",
    "mndata.gz = True\n",
    "training, test = mndata.load_training(), mndata.load_testing()"
   ]
  },
  {
   "cell_type": "code",
   "execution_count": 3,
   "id": "b2952772",
   "metadata": {},
   "outputs": [],
   "source": [
    "X = np.array(training[0] + test[0], dtype=float)\n",
    "Y = np.array(list(training[1]) + list(test[1]), dtype=int)\n",
    "\n",
    "# Scale down pixels from 0-255 to 0-1\n",
    "X = X / 255.0\n",
    "\n",
    "# OneHot label vectors\n",
    "one_hot = np.zeros((Y.size, 10)) # (70000, 10)\n",
    "one_hot[np.arange(Y.size), Y] = 1\n",
    "Y = one_hot"
   ]
  },
  {
   "cell_type": "code",
   "execution_count": 4,
   "id": "50df552d",
   "metadata": {},
   "outputs": [
    {
     "name": "stdout",
     "output_type": "stream",
     "text": [
      "Sizes: train=56000, val=7000, test=7000\n"
     ]
    }
   ],
   "source": [
    "# Split\n",
    "n = len(X)\n",
    "tr, d = int(n*0.8), int(n*0.9)\n",
    "Xtr, Xdev, Xte = Tensor(X[:tr]), Tensor(X[tr:d]), Tensor(X[d:])\n",
    "Ytr, Ydev, Yte = Tensor(Y[:tr]), Tensor(Y[tr:d]), Tensor(Y[d:])\n",
    "print(f'Sizes: train={len(Xtr)}, val={len(Xdev)}, test={len(Xte)}')"
   ]
  },
  {
   "cell_type": "code",
   "execution_count": 5,
   "id": "185d55af",
   "metadata": {},
   "outputs": [
    {
     "data": {
      "image/png": "[encoded data removed]",
      "text/plain": [
       "<Figure size 432x288 with 1 Axes>"
      ]
     },
     "metadata": {
      "needs_background": "light"
     },
     "output_type": "display_data"
    }
   ],
   "source": [
    "# Visualize X\n",
    "img = np.array(Xtr[0].tolist())\n",
    "plt.imshow(img.reshape(28, 28),cmap='gray')\n",
    "plt.show()"
   ]
  },
  {
   "cell_type": "code",
   "execution_count": 6,
   "id": "2c8ff148",
   "metadata": {},
   "outputs": [],
   "source": [
    "# Multinomial sampling with replacement\n",
    "rng = np.random.default_rng(seed=1)\n",
    "def draw_batch(batch_size): \n",
    "    draw = lambda: int(rng.random() * len(Xtr))\n",
    "    batch = [draw() for _ in range(batch_size)]\n",
    "    return Xtr[batch], Ytr[batch]"
   ]
  },
  {
   "cell_type": "code",
   "execution_count": 7,
   "id": "f6ad381d",
   "metadata": {},
   "outputs": [],
   "source": [
    "mlp = nn.Sequential((\n",
    "    nn.Linear(784, 512),\n",
    "    nn.Tanh(),\n",
    "    nn.Linear(512, 256),\n",
    "    nn.Tanh(),\n",
    "    nn.Linear(256, 10, bias=False),\n",
    "    nn.Softmax()\n",
    "))\n",
    "mlp[0].W = mlp[0].W * 0.11\n",
    "mlp[2].W = mlp[2].W * 0.07\n",
    "losses = []"
   ]
  },
  {
   "cell_type": "code",
   "execution_count": 8,
   "id": "29bd7e1f",
   "metadata": {},
   "outputs": [
    {
     "name": "stdout",
     "output_type": "stream",
     "text": [
      "std=1.0633167276322384\n",
      "std=1.021437095791861\n",
      "std=9.078233794118741\n",
      "Epoch 0: 13.720013220377844\n",
      "Epoch 1: 16.035943812019042\n",
      "Epoch 2: 24.70945382437895\n",
      "Epoch 3: 12.518665374403072\n",
      "Epoch 4: 12.778913762288465\n",
      "Epoch 5: 9.189120519478976\n",
      "Epoch 6: 4.372017156712092\n",
      "Epoch 7: 5.395378028409413\n",
      "Epoch 8: 5.38730105675053\n",
      "Epoch 9: 6.972585640240091\n",
      "Epoch 10: 5.359962812399077\n",
      "Epoch 11: 4.121283833686325\n",
      "Epoch 12: 3.7919123928310317\n",
      "Epoch 13: 4.19800236328065\n",
      "Epoch 14: 5.33272211894351\n",
      "Epoch 15: 2.4145406378976015\n",
      "Epoch 16: 5.024775234341157\n",
      "Epoch 17: 2.8872639526972237\n",
      "Epoch 18: 3.5419748334040335\n",
      "Epoch 19: 3.5160175836540732\n",
      "Epoch 20: 1.0186676834851185\n",
      "Epoch 21: 1.4245964418863277\n",
      "Epoch 22: 3.031420632171516\n",
      "Epoch 23: 0.9936532200586037\n",
      "Epoch 24: 0.9038806750061531\n",
      "Epoch 25: 2.286259297854494\n",
      "Epoch 26: 3.518363753743088\n",
      "Epoch 27: 0.9231773210241031\n",
      "Epoch 28: 3.934384528027868\n",
      "Epoch 29: 3.435468066340227\n",
      "Epoch 30: 3.250575059085606\n",
      "Epoch 31: 2.14852095878988\n",
      "Epoch 32: 2.8387740702450515\n",
      "Epoch 33: 1.4346084026416763\n",
      "Epoch 34: 1.1217666897138376\n",
      "Epoch 35: 2.2356252720817062\n",
      "Epoch 36: 1.3485449586825489\n",
      "Epoch 37: 2.7101714597300157\n",
      "Epoch 38: 2.8329874582519388\n",
      "Epoch 39: 2.029279675872601\n",
      "Epoch 40: 1.592086147500929\n",
      "Epoch 41: 1.2235642426742388\n",
      "Epoch 42: 1.2342652456722307\n",
      "Epoch 43: 2.2438276382520264\n",
      "Epoch 44: 1.6009147030195732\n",
      "Epoch 45: 2.4689934501591706\n",
      "Epoch 46: 1.261510910149737\n",
      "Epoch 47: 1.005955947552284\n",
      "Epoch 48: 3.5600940369014826\n",
      "Epoch 49: 2.4788421860371237\n",
      "Epoch 50: 0.3914908760917758\n",
      "Epoch 51: 2.404178278696974\n",
      "Epoch 52: 0.9050306345746433\n",
      "Epoch 53: 1.0972975047113032\n",
      "Epoch 54: 0.7677666444495761\n",
      "Epoch 55: 1.7994170155198237\n",
      "Epoch 56: 0.3243181903419235\n",
      "Epoch 57: 2.3030387896427778\n",
      "Epoch 58: 2.1589321192791058\n",
      "Epoch 59: 2.2976849587070634\n",
      "Epoch 60: 2.93141733689767\n",
      "Epoch 61: 1.3183436602114327\n",
      "Epoch 62: 1.8009881954266205\n",
      "Epoch 63: 0.7357280413736635\n",
      "Epoch 64: 2.6380870157044747\n",
      "Epoch 65: 0.9770490430428945\n",
      "Epoch 66: 1.3331172369799345\n",
      "Epoch 67: 0.7025154441514432\n",
      "Epoch 68: 1.8935633932393605\n",
      "Epoch 69: 0.7842003601882025\n",
      "Epoch 70: 1.6829007201834552\n",
      "Epoch 71: 2.4374995121953873\n",
      "Epoch 72: 0.7465532674238917\n",
      "Epoch 73: 1.0793824600222681\n",
      "Epoch 74: 1.3385496382065372\n",
      "Epoch 75: 1.6787226281764718\n",
      "Epoch 76: 0.592424201120193\n",
      "Epoch 77: 1.6843765158810395\n",
      "Epoch 78: 1.6066215710870129\n",
      "Epoch 79: 0.5610633302553584\n",
      "Epoch 80: 1.411041075360331\n",
      "Epoch 81: 0.725045526473515\n",
      "Epoch 82: 2.1326196514911073\n",
      "Epoch 83: 2.5683062964632386\n",
      "Epoch 84: 0.856002391589333\n",
      "Epoch 85: 0.842114515367224\n",
      "Epoch 86: 0.3085187389376983\n",
      "Epoch 87: 1.9343138521706602\n",
      "Epoch 88: 1.4636811889300358\n",
      "Epoch 89: 0.8161670072983183\n",
      "Epoch 90: 1.0302549302293924\n",
      "Epoch 91: 0.639298102688117\n",
      "Epoch 92: 0.8810695050693534\n",
      "Epoch 93: 0.8797764375246562\n",
      "Epoch 94: 0.9518357583813277\n",
      "Epoch 95: 0.4843527915981851\n",
      "Epoch 96: 0.7551984853844715\n",
      "Epoch 97: 1.6773156347589806\n",
      "Epoch 98: 1.3681620604649383\n",
      "Epoch 99: 0.7514551828802509\n"
     ]
    },
    {
     "data": {
      "image/png": "[encoded data removed]",
      "text/plain": [
       "<Figure size 432x288 with 1 Axes>"
      ]
     },
     "metadata": {
      "needs_background": "light"
     },
     "output_type": "display_data"
    }
   ],
   "source": [
    "epochs = 100\n",
    "batch_size = 32\n",
    "lr = 0.01\n",
    "breakpoint = -1\n",
    "for e in range(epochs):\n",
    "    x, y = draw_batch(batch_size)\n",
    "    out = mlp(x, breakpoint=breakpoint, printstddev=(e==0))\n",
    "\n",
    "    loss = nn.nlll(out, y, reduction='mean')\n",
    "    loss.backward()\n",
    "    mlp.optimize(lr=lr)\n",
    "    mlp.zero_grad()\n",
    "\n",
    "    losses.append(loss.data.item())\n",
    "    print(f'Epoch {e}: {loss.data.item()}')\n",
    "\n",
    "plt.plot(losses)\n",
    "plt.show()"
   ]
  },
  {
   "cell_type": "code",
   "execution_count": 13,
   "id": "4d1fcdd0",
   "metadata": {},
   "outputs": [
    {
     "name": "stdout",
     "output_type": "stream",
     "text": [
      "test-accuracy: 87.69%\n",
      "train-accuracy: 85.01%\n",
      "dev-accuracy: 85.14%\n"
     ]
    }
   ],
   "source": [
    "def accuracy(split):\n",
    "    x, y = {'train': (Xtr, Ytr), 'dev': (Xdev, Ydev), 'test': (Xte, Yte)}[split]\n",
    "    x = mlp(x) # (7000, 10)\n",
    "    correct = (x.data.argmax(1) == y.data.argmax(1)).sum()\n",
    "    acc = (correct / len(x)) * 100\n",
    "    print(f'{split}-accuracy: {acc:.2f}%')\n",
    "\n",
    "accuracy('test')\n",
    "accuracy('train')\n",
    "accuracy('dev')"
   ]
  },
  {
   "cell_type": "code",
   "execution_count": null,
   "id": "45bec8f4",
   "metadata": {},
   "outputs": [],
   "source": []
  }
 ],
 "metadata": {
  "kernelspec": {
   "display_name": "Python 3 (ipykernel)",
   "language": "python",
   "name": "python3"
  },
  "language_info": {
   "codemirror_mode": {
    "name": "ipython",
    "version": 3
   },
   "file_extension": ".py",
   "mimetype": "text/x-python",
   "name": "python",
   "nbconvert_exporter": "python",
   "pygments_lexer": "ipython3",
   "version": "3.10.6"
  },
  "vscode": {
   "interpreter": {
    "hash": "916dbcbb3f70747c44a77c7bcd40155683ae19c65e1c03b4aa3499c5328201f1"
   }
  }
 },
 "nbformat": 4,
 "nbformat_minor": 5
}
