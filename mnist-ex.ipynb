{
 "cells": [
  {
   "cell_type": "code",
   "execution_count": 1,
   "id": "fd50b5f2",
   "metadata": {},
   "outputs": [],
   "source": [
    "from src.tensor import Tensor\n",
    "import src.nn as nn\n",
    "import matplotlib.pyplot as plt\n",
    "import numpy as np\n",
    "from mnist import MNIST\n",
    "np.set_printoptions(suppress=True)"
   ]
  },
  {
   "cell_type": "code",
   "execution_count": 2,
   "id": "c9693099",
   "metadata": {},
   "outputs": [],
   "source": [
    "mndata = MNIST('./mnist_dataset/')\n",
    "mndata.gz = True\n",
    "mnist_x_train, mnist_y_train = mndata.load_training()\n",
    "mnist_x_test, mnist_y_test = mndata.load_testing()\n",
    "x_train = Tensor(list(mnist_x_train))\n",
    "x_test = Tensor(list(mnist_x_test))\n",
    "y_train = Tensor(list(mnist_y_train))\n",
    "y_test = Tensor(list(mnist_y_test))"
   ]
  },
  {
   "cell_type": "code",
   "execution_count": 3,
   "id": "b2952772",
   "metadata": {},
   "outputs": [
    {
     "name": "stdout",
     "output_type": "stream",
     "text": [
      "x_train=(60000, 784), y_train=(60000, 10)\n",
      "x_test=(10000, 784), y_test=(10000, 10)\n"
     ]
    }
   ],
   "source": [
    "rng = np.random.default_rng(seed=1)\n",
    "\n",
    "# Scale down pixels from 0-255 to 0-1\n",
    "x_train = x_train / 255\n",
    "x_test = x_test / 255\n",
    "\n",
    "# OneHot label vectors\n",
    "def onehot(vector):\n",
    "    tmp = []\n",
    "    for scalar in vector.data:\n",
    "        tmp2 = [1 if i==scalar else 0 for i in range(10)]\n",
    "        tmp.append(tmp2)\n",
    "    return Tensor(tmp)\n",
    "y_train = onehot(y_train)\n",
    "y_test = onehot(y_test)\n",
    "\n",
    "print(f'x_train={x_train.shape}, y_train={y_train.shape}')\n",
    "print(f'x_test={x_test.shape}, y_test={y_test.shape}')"
   ]
  },
  {
   "cell_type": "code",
   "execution_count": 4,
   "id": "185d55af",
   "metadata": {},
   "outputs": [
    {
     "data": {
      "image/png": "[encoded data removed]",
      "text/plain": [
       "<Figure size 432x288 with 1 Axes>"
      ]
     },
     "metadata": {
      "needs_background": "light"
     },
     "output_type": "display_data"
    }
   ],
   "source": [
    "# Visualize X\n",
    "img = np.array(x_train[0].tolist())\n",
    "plt.imshow(img.reshape(28, 28),cmap='gray')\n",
    "plt.show()"
   ]
  },
  {
   "cell_type": "code",
   "execution_count": 5,
   "id": "2c8ff148",
   "metadata": {},
   "outputs": [],
   "source": [
    "# Multinomial sampling with replacement\n",
    "def draw_batch(batch_size): \n",
    "    draw = lambda: int(rng.random() * x_train.shape[0])\n",
    "    batch = [draw() for _ in range(batch_size)]\n",
    "    return x_train[batch], y_train[batch]\n",
    "\n",
    "mlp = nn.Sequential((\n",
    "    nn.Linear(784, 512),\n",
    "    nn.Tanh(),\n",
    "    nn.Linear(512, 256),\n",
    "    nn.Tanh(),\n",
    "    nn.Linear(256, 10, bias=False),\n",
    "    nn.Softmax()\n",
    "))\n",
    "mlp[0].W = mlp[0].W * 0.11\n",
    "mlp[2].W = mlp[2].W * 0.07\n",
    "losses = []"
   ]
  },
  {
   "cell_type": "code",
   "execution_count": 6,
   "id": "29bd7e1f",
   "metadata": {},
   "outputs": [
    {
     "name": "stdout",
     "output_type": "stream",
     "text": [
      "std=1.0557970447686302\n",
      "std=0.99887900769033\n",
      "std=8.757189614755358\n",
      "Epoch 0: 11.825661744020504\n",
      "Epoch 1: 69.02863195929254\n",
      "Epoch 2: 44.842035493133\n",
      "Epoch 3: 43.89040681271691\n",
      "Epoch 4: 41.460859452852944\n",
      "Epoch 5: 23.24562754754748\n",
      "Epoch 6: 18.61632087876084\n",
      "Epoch 7: 22.823035516690524\n",
      "Epoch 8: 15.236382582398825\n",
      "Epoch 9: 12.587921039869483\n",
      "Epoch 10: 9.928426330698734\n",
      "Epoch 11: 6.198611605558828\n",
      "Epoch 12: 8.182509879814077\n",
      "Epoch 13: 4.638420363704012\n",
      "Epoch 14: 4.578673193269197\n",
      "Epoch 15: 4.308791951084954\n",
      "Epoch 16: 2.2772816936949587\n",
      "Epoch 17: 1.5859587530209744\n",
      "Epoch 18: 1.4503197573068416\n",
      "Epoch 19: 1.3179815454177448\n",
      "Epoch 20: 1.4064521053032557\n",
      "Epoch 21: 1.60247184362052\n",
      "Epoch 22: 2.9161386813239085\n",
      "Epoch 23: 1.9841995384307192\n",
      "Epoch 24: 2.7756733912961056\n",
      "Epoch 25: 3.210977343602159\n",
      "Epoch 26: 2.759500526811972\n",
      "Epoch 27: 2.4326949593603624\n",
      "Epoch 28: 4.2957735614102415\n",
      "Epoch 29: 3.3774165687667863\n",
      "Epoch 30: 3.256971350684462\n",
      "Epoch 31: 1.608298294194769\n",
      "Epoch 32: 1.8479904105274056\n",
      "Epoch 33: 1.8854383541341657\n",
      "Epoch 34: 1.6141233927636376\n",
      "Epoch 35: 1.7412469027467068\n",
      "Epoch 36: 3.594302027317843\n",
      "Epoch 37: 2.8997256062296968\n",
      "Epoch 38: 2.3344626959284724\n",
      "Epoch 39: 1.2423238451713567\n",
      "Epoch 40: 1.1973896774220638\n",
      "Epoch 41: 2.585716199464139\n",
      "Epoch 42: 4.85112288864117\n",
      "Epoch 43: 2.5360401072677283\n",
      "Epoch 44: 1.3744121210948532\n",
      "Epoch 45: 0.45931650915040845\n",
      "Epoch 46: 1.5630430849735326\n",
      "Epoch 47: 1.096101227461824\n",
      "Epoch 48: 1.8263996513962795\n",
      "Epoch 49: 1.255681538412639\n",
      "Epoch 50: 1.3901082511547678\n",
      "Epoch 51: 1.2162610305730497\n",
      "Epoch 52: 1.3700256562085715\n",
      "Epoch 53: 0.8350892572183725\n",
      "Epoch 54: 0.6377114227250188\n",
      "Epoch 55: 0.3405709371060086\n",
      "Epoch 56: 1.992971302250977\n",
      "Epoch 57: 0.8519077843507769\n",
      "Epoch 58: 1.076810209327863\n",
      "Epoch 59: 1.224181249735837\n",
      "Epoch 60: 1.2583191234631328\n",
      "Epoch 61: 1.32960398703927\n",
      "Epoch 62: 1.2817710629344314\n",
      "Epoch 63: 1.3966710690094133\n",
      "Epoch 64: 1.4137894338317842\n",
      "Epoch 65: 1.363509484290768\n",
      "Epoch 66: 0.888145893205706\n",
      "Epoch 67: 0.9087204700543057\n",
      "Epoch 68: 0.5376504262228913\n",
      "Epoch 69: 0.8286858485625288\n",
      "Epoch 70: 1.3220325282814032\n",
      "Epoch 71: 1.532234634105936\n",
      "Epoch 72: 1.2173596678205807\n",
      "Epoch 73: 0.5311693757278113\n",
      "Epoch 74: 0.7887451033123036\n",
      "Epoch 75: 0.543705888839104\n",
      "Epoch 76: 1.561070497663409\n",
      "Epoch 77: 1.1349486578657895\n",
      "Epoch 78: 1.2467797809788201\n",
      "Epoch 79: 0.8798031271576566\n",
      "Epoch 80: 0.6921939661809695\n",
      "Epoch 81: 0.6800575137399034\n",
      "Epoch 82: 1.0930413868609596\n",
      "Epoch 83: 0.8918530839578014\n",
      "Epoch 84: 0.29859549517774825\n",
      "Epoch 85: 0.7333923278542676\n",
      "Epoch 86: 0.3927791106892153\n",
      "Epoch 87: 0.7699897849215084\n",
      "Epoch 88: 0.3816027949868505\n",
      "Epoch 89: 1.0137584657449419\n",
      "Epoch 90: 1.0656620978730138\n",
      "Epoch 91: 0.7819487462866022\n",
      "Epoch 92: 0.3624564479891453\n",
      "Epoch 93: 0.3610917348938078\n",
      "Epoch 94: 0.9747496383548675\n",
      "Epoch 95: 1.8326742388078119\n",
      "Epoch 96: 0.1470939343044401\n",
      "Epoch 97: 0.7352615368505057\n",
      "Epoch 98: 0.7802965763955284\n",
      "Epoch 99: 1.2048421550473738\n"
     ]
    },
    {
     "data": {
      "image/png": "[encoded data removed]",
      "text/plain": [
       "<Figure size 432x288 with 1 Axes>"
      ]
     },
     "metadata": {
      "needs_background": "light"
     },
     "output_type": "display_data"
    }
   ],
   "source": [
    "epochs = 100\n",
    "batch_size = 32\n",
    "lr = 0.1\n",
    "breakpoint = -1\n",
    "for e in range(epochs):\n",
    "    x, y = draw_batch(batch_size)\n",
    "    out = mlp(x, breakpoint=breakpoint, printstddev=(e==0))\n",
    "\n",
    "    loss = nn.nlll(out, y, reduction='mean')\n",
    "    loss.backward()\n",
    "    mlp.optimize(lr=lr)\n",
    "    mlp.zero_grad()\n",
    "\n",
    "    losses.append(loss.data.item())\n",
    "    print(f'Epoch {e}: {loss.data.item()}')\n",
    "\n",
    "plt.plot(losses)\n",
    "plt.show()"
   ]
  },
  {
   "cell_type": "code",
   "execution_count": 8,
   "id": "4d1fcdd0",
   "metadata": {},
   "outputs": [
    {
     "name": "stdout",
     "output_type": "stream",
     "text": [
      "Test accuracy: 82.22%\n"
     ]
    }
   ],
   "source": [
    "correct = 0\n",
    "for i in range(len(x_test)):\n",
    "    y = y_test[i]\n",
    "    x = mlp(x_test[i])\n",
    "    corr = np.argmax(y.data)\n",
    "    predicted = np.argmax(x.data)\n",
    "    if predicted == corr: correct += 1\n",
    "\n",
    "print(f'Test accuracy: {(correct/len(x_test.data))*100}%')"
   ]
  },
  {
   "cell_type": "code",
   "execution_count": null,
   "id": "a9e91f0b",
   "metadata": {},
   "outputs": [],
   "source": []
  }
 ],
 "metadata": {
  "kernelspec": {
   "display_name": "Python 3 (ipykernel)",
   "language": "python",
   "name": "python3"
  },
  "language_info": {
   "codemirror_mode": {
    "name": "ipython",
    "version": 3
   },
   "file_extension": ".py",
   "mimetype": "text/x-python",
   "name": "python",
   "nbconvert_exporter": "python",
   "pygments_lexer": "ipython3",
   "version": "3.10.6"
  },
  "vscode": {
   "interpreter": {
    "hash": "916dbcbb3f70747c44a77c7bcd40155683ae19c65e1c03b4aa3499c5328201f1"
   }
  }
 },
 "nbformat": 4,
 "nbformat_minor": 5
}
