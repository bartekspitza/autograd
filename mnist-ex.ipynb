{
 "cells": [
  {
   "cell_type": "code",
   "execution_count": 1,
   "id": "fd50b5f2",
   "metadata": {},
   "outputs": [],
   "source": [
    "from src.tensor import Tensor\n",
    "import src.nn as nn\n",
    "import matplotlib.pyplot as plt\n",
    "import numpy as np\n",
    "from mnist import MNIST\n",
    "np.set_printoptions(suppress=True)"
   ]
  },
  {
   "cell_type": "code",
   "execution_count": 2,
   "id": "c9693099",
   "metadata": {},
   "outputs": [],
   "source": [
    "mndata = MNIST('./mnist_dataset/')\n",
    "mndata.gz = True\n",
    "training, test = mndata.load_training(), mndata.load_testing()"
   ]
  },
  {
   "cell_type": "code",
   "execution_count": 3,
   "id": "b2952772",
   "metadata": {},
   "outputs": [],
   "source": [
    "X = np.array(training[0] + test[0], dtype=float)\n",
    "Y = np.array(list(training[1]) + list(test[1]), dtype=int)\n",
    "\n",
    "# Scale down pixels from 0-255 to 0-1\n",
    "X = X / 255.0\n",
    "\n",
    "# OneHot label vectors\n",
    "one_hot = np.zeros((Y.size, 10)) # (70000, 10)\n",
    "one_hot[np.arange(Y.size), Y] = 1\n",
    "Y = one_hot"
   ]
  },
  {
   "cell_type": "code",
   "execution_count": 4,
   "id": "50df552d",
   "metadata": {},
   "outputs": [
    {
     "name": "stdout",
     "output_type": "stream",
     "text": [
      "Sizes: train=56000, val=7000, test=7000\n"
     ]
    }
   ],
   "source": [
    "# Split\n",
    "n = len(X)\n",
    "tr, d = int(n*0.8), int(n*0.9)\n",
    "Xtr, Xdev, Xte = Tensor(X[:tr]), Tensor(X[tr:d]), Tensor(X[d:])\n",
    "Ytr, Ydev, Yte = Tensor(Y[:tr]), Tensor(Y[tr:d]), Tensor(Y[d:])\n",
    "print(f'Sizes: train={len(Xtr)}, val={len(Xdev)}, test={len(Xte)}')"
   ]
  },
  {
   "cell_type": "code",
   "execution_count": 5,
   "id": "185d55af",
   "metadata": {},
   "outputs": [
    {
     "data": {
      "image/png": "[encoded data removed]",
      "text/plain": [
       "<Figure size 432x288 with 1 Axes>"
      ]
     },
     "metadata": {
      "needs_background": "light"
     },
     "output_type": "display_data"
    }
   ],
   "source": [
    "# Visualize X\n",
    "img = np.array(Xtr[0].tolist())\n",
    "plt.imshow(img.reshape(28, 28),cmap='gray')\n",
    "plt.show()"
   ]
  },
  {
   "cell_type": "code",
   "execution_count": 33,
   "id": "2c8ff148",
   "metadata": {},
   "outputs": [],
   "source": [
    "# Multinomial sampling with replacement\n",
    "rng = np.random.default_rng(seed=1)\n",
    "def draw_batch(batch_size): \n",
    "    draw = lambda: int(rng.random() * len(Xtr))\n",
    "    batch = [draw() for _ in range(batch_size)]\n",
    "    return Xtr[batch], Ytr[batch]\n",
    "\n",
    "def accuracy(split):\n",
    "    x, y = {'train': (Xtr, Ytr), 'dev': (Xdev, Ydev), 'test': (Xte, Yte)}[split]\n",
    "    global mlp\n",
    "    x = mlp(x) # (7000, 10)\n",
    "    correct = (x.data.argmax(1) == y.data.argmax(1)).sum()\n",
    "    acc = (correct / len(x)) * 100\n",
    "    print(f'{split}-accuracy: {acc:.2f}%')"
   ]
  },
  {
   "cell_type": "code",
   "execution_count": 50,
   "id": "f6ad381d",
   "metadata": {},
   "outputs": [],
   "source": [
    "mlp = nn.Sequential((\n",
    "    nn.Linear(784, 512),\n",
    "    nn.Tanh(),\n",
    "    nn.Linear(512, 256),\n",
    "    nn.Tanh(),\n",
    "    nn.Linear(256, 128),\n",
    "    nn.Tanh(),\n",
    "    nn.Linear(128, 10, bias=False),\n",
    "    nn.Softmax()\n",
    "))\n",
    "mlp[0].W = mlp[0].W * 0.11\n",
    "mlp[2].W = mlp[2].W * 0.07\n",
    "mlp[4].W = mlp[4].W * 0.11\n",
    "losses = []\n",
    "dev_losses = []"
   ]
  },
  {
   "cell_type": "code",
   "execution_count": 53,
   "id": "29bd7e1f",
   "metadata": {},
   "outputs": [
    {
     "name": "stdout",
     "output_type": "stream",
     "text": [
      "std=1.0826534779105732\n",
      "std=1.175290721185383\n",
      "std=1.4574592790574887\n",
      "std=7.007641837919825\n",
      "Step 0: train=0.9041872087895253, val=0.6557148639896975\n",
      "Step 1: train=1.1687462365208336, val=0.6487069997795024\n",
      "Step 2: train=0.7247039538575144, val=0.640539663176291\n",
      "Step 3: train=1.274714871880221, val=0.6408240646441518\n",
      "Step 4: train=0.6351769112503995, val=0.6242820854495112\n",
      "Step 5: train=0.6427449397930085, val=0.6189066072915241\n",
      "Step 6: train=0.5983674272301106, val=0.6115514565024015\n",
      "Step 7: train=0.8469782925008813, val=0.6116028331768237\n",
      "Step 8: train=0.5126410911489718, val=0.6030561266874195\n",
      "Step 9: train=1.2233033713674184, val=0.5979390903297197\n",
      "Step 10: train=0.41215635041621596, val=0.5938542811545113\n",
      "Step 11: train=0.9607924528028888, val=0.5905108231551521\n",
      "Step 12: train=0.6762038489565636, val=0.5879904763450786\n",
      "Step 13: train=0.3684757877233962, val=0.587109349890065\n",
      "Step 14: train=0.803106404293695, val=0.5861191152412497\n",
      "Step 15: train=0.7220330005798961, val=0.5831088614124766\n",
      "Step 16: train=0.8227562186808661, val=0.5830968208094561\n",
      "Step 17: train=0.5037663358201122, val=0.5820877175690218\n",
      "Step 18: train=0.18100396368096838, val=0.581821245493663\n",
      "Step 19: train=0.2966191433870039, val=0.5807150171960177\n",
      "Step 20: train=0.5312381245928353, val=0.5812527371234434\n",
      "Step 21: train=0.7892685049934842, val=0.5794091958152398\n",
      "Step 22: train=0.493154699522535, val=0.5793185158565791\n",
      "Step 23: train=0.37293688216006315, val=0.5771151973335948\n",
      "Step 24: train=0.4288962040236117, val=0.5764417757789897\n",
      "Step 25: train=0.5462635637389623, val=0.5759380258147462\n",
      "Step 26: train=0.4553419893617202, val=0.5760976183631112\n",
      "Step 27: train=0.8857901082434094, val=0.5765512929187299\n",
      "Step 28: train=1.275268493690107, val=0.5742316893920936\n",
      "Step 29: train=0.6525123469866873, val=0.573249635597735\n",
      "Step 30: train=0.7088253326497279, val=0.5701433840798983\n",
      "Step 31: train=0.9917859310614726, val=0.5678339695212914\n",
      "Step 32: train=0.21061704815189725, val=0.5684848042894696\n",
      "Step 33: train=0.8537297257255656, val=0.5694226473987976\n",
      "Step 34: train=0.45459393138989074, val=0.5667148598333905\n",
      "Step 35: train=0.44950874829984916, val=0.5663229802434991\n",
      "Step 36: train=0.9422650007168125, val=0.5654880660846343\n",
      "Step 37: train=0.7649022201008332, val=0.5661574062968256\n",
      "Step 38: train=0.3506520997239655, val=0.5670419574820798\n",
      "Step 39: train=0.33098761636239354, val=0.5674375315929162\n",
      "Step 40: train=0.24667969465467035, val=0.5670330118713033\n",
      "Step 41: train=0.8206009505495224, val=0.5646705751047092\n",
      "Step 42: train=0.6423020878567618, val=0.5643864044853394\n",
      "Step 43: train=0.8480851003971974, val=0.563927835791965\n",
      "Step 44: train=0.4085981718495044, val=0.5637785589461338\n",
      "Step 45: train=0.5852917633591337, val=0.562729592450932\n",
      "Step 46: train=0.44758753718101585, val=0.5629064269916452\n",
      "Step 47: train=0.39584631078947446, val=0.5633659232483409\n",
      "Step 48: train=0.8664371096869851, val=0.5624476552224121\n",
      "Step 49: train=0.3378528672010886, val=0.560959141710863\n",
      "Step 50: train=0.7692004372389606, val=0.5590712974603189\n",
      "Step 51: train=0.788922418252803, val=0.5582156106939404\n",
      "Step 52: train=0.7581284637077921, val=0.5575817713295983\n",
      "Step 53: train=0.7455475084107773, val=0.5567131196115166\n",
      "Step 54: train=0.49616217600554513, val=0.5571822827112259\n",
      "Step 55: train=0.31264124500498025, val=0.5566111204209516\n",
      "Step 56: train=0.23555851391003296, val=0.5560442167012352\n",
      "Step 57: train=0.754764710222863, val=0.5556455813778145\n",
      "Step 58: train=0.7689494603285649, val=0.55488199417717\n",
      "Step 59: train=0.5639733437616076, val=0.5547588616293334\n",
      "Step 60: train=0.5941152568859027, val=0.5550608871965295\n",
      "Step 61: train=0.6424849828029744, val=0.5540140913841434\n",
      "Step 62: train=0.3289556425399861, val=0.5542398054708995\n",
      "Step 63: train=0.6312921777295954, val=0.554176229854058\n",
      "Step 64: train=0.7346019563372157, val=0.5556184853899417\n",
      "Step 65: train=0.49657769489446585, val=0.555844425015043\n",
      "Step 66: train=0.6225938061863008, val=0.5555065052491882\n",
      "Step 67: train=0.40846523622562725, val=0.553573158090561\n",
      "Step 68: train=0.3956788696657698, val=0.5542402591785982\n",
      "Step 69: train=0.4768962347001542, val=0.555284358638177\n",
      "Step 70: train=0.7439946710113496, val=0.5557696824114592\n",
      "Step 71: train=0.7549915986108844, val=0.5544715222001969\n",
      "Step 72: train=0.4517270416768463, val=0.554074915483884\n",
      "Step 73: train=0.39683981834643944, val=0.5544692059594064\n",
      "Step 74: train=1.0521966235574112, val=0.5523971863094023\n",
      "Step 75: train=0.7164247087421187, val=0.5510809792511502\n",
      "Step 76: train=0.4048324849468117, val=0.5505492144417841\n",
      "Step 77: train=0.42321801780917573, val=0.5483754866519449\n",
      "Step 78: train=0.7597581892854492, val=0.5481355874169249\n",
      "Step 79: train=0.6125539458405516, val=0.5481715975553622\n",
      "Step 80: train=0.729610982995578, val=0.5479741099209198\n",
      "Step 81: train=0.9362608061638772, val=0.5488604397307572\n",
      "Step 82: train=1.0249531828337586, val=0.5473805655532261\n",
      "Step 83: train=0.7341138309797695, val=0.5477034124896589\n",
      "Step 84: train=0.457307643777774, val=0.5463329270795694\n",
      "Step 85: train=0.630880639420775, val=0.545834526852078\n",
      "Step 86: train=0.5890672930770039, val=0.5453440514315266\n",
      "Step 87: train=0.3037217092160606, val=0.5450186131866349\n",
      "Step 88: train=0.5580526890399307, val=0.5445586568726323\n",
      "Step 89: train=0.5520834269564407, val=0.5448459586646415\n",
      "Step 90: train=0.41691377063557583, val=0.546480419712248\n",
      "Step 91: train=0.33831539341110123, val=0.5452856843943801\n",
      "Step 92: train=0.6266937874151863, val=0.5444851612520855\n",
      "Step 93: train=0.43285180965990566, val=0.5446725575442354\n",
      "Step 94: train=0.4285306874403003, val=0.5436523228165271\n",
      "Step 95: train=0.39835719025103994, val=0.5426714229526769\n",
      "Step 96: train=0.6041214685497092, val=0.5413833296538269\n",
      "Step 97: train=0.4734480676892783, val=0.5394010579004216\n",
      "Step 98: train=0.42980567731202285, val=0.5388730027574986\n",
      "Step 99: train=0.30760164898509806, val=0.5376182619882462\n"
     ]
    },
    {
     "data": {
      "image/png": "[encoded data removed]",
      "text/plain": [
       "<Figure size 432x288 with 1 Axes>"
      ]
     },
     "metadata": {
      "needs_background": "light"
     },
     "output_type": "display_data"
    }
   ],
   "source": [
    "steps = 100\n",
    "batch_size = 64\n",
    "lr = 0.01\n",
    "breakpoint = -1\n",
    "for i in range(steps):\n",
    "    x, y = draw_batch(batch_size)\n",
    "    out = mlp(x, breakpoint=breakpoint, printstddev=(i==0))\n",
    "\n",
    "    loss = nn.nlll(out, y, reduction='mean')\n",
    "    loss.backward()\n",
    "\n",
    "    mlp.optimize(lr=lr)\n",
    "    mlp.zero_grad()\n",
    "\n",
    "    loss = loss.data.item()\n",
    "    losses.append(loss)\n",
    "    dev_loss = nn.nlll(mlp(Xdev), Ydev, reduction='mean').data.item()\n",
    "    dev_losses.append(dev_loss)\n",
    "    print(f'Step {i}: train={loss}, val={dev_loss}')\n",
    "\n",
    "plt.plot(losses, label='train')\n",
    "plt.plot(dev_losses, label='dev')\n",
    "plt.show()"
   ]
  },
  {
   "cell_type": "code",
   "execution_count": 52,
   "id": "45bec8f4",
   "metadata": {},
   "outputs": [
    {
     "name": "stdout",
     "output_type": "stream",
     "text": [
      "test-accuracy: 85.27%\n"
     ]
    }
   ],
   "source": [
    "accuracy('test')"
   ]
  },
  {
   "cell_type": "code",
   "execution_count": null,
   "id": "ffc85d89",
   "metadata": {},
   "outputs": [],
   "source": []
  }
 ],
 "metadata": {
  "kernelspec": {
   "display_name": "Python 3 (ipykernel)",
   "language": "python",
   "name": "python3"
  },
  "language_info": {
   "codemirror_mode": {
    "name": "ipython",
    "version": 3
   },
   "file_extension": ".py",
   "mimetype": "text/x-python",
   "name": "python",
   "nbconvert_exporter": "python",
   "pygments_lexer": "ipython3",
   "version": "3.10.6"
  },
  "vscode": {
   "interpreter": {
    "hash": "916dbcbb3f70747c44a77c7bcd40155683ae19c65e1c03b4aa3499c5328201f1"
   }
  }
 },
 "nbformat": 4,
 "nbformat_minor": 5
}
