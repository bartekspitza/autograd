{
 "cells": [
  {
   "cell_type": "code",
   "execution_count": 1,
   "id": "fd50b5f2",
   "metadata": {},
   "outputs": [],
   "source": [
    "from src.tensor import Tensor\n",
    "import src.nn as nn\n",
    "import matplotlib.pyplot as plt\n",
    "import numpy as np\n",
    "from mnist import MNIST\n",
    "np.set_printoptions(suppress=True)"
   ]
  },
  {
   "cell_type": "code",
   "execution_count": 2,
   "id": "c9693099",
   "metadata": {},
   "outputs": [],
   "source": [
    "mndata = MNIST('./mnist_dataset/')\n",
    "mndata.gz = True\n",
    "mnist_x_train, mnist_y_train = mndata.load_training()\n",
    "mnist_x_test, mnist_y_test = mndata.load_testing()\n",
    "x_train = Tensor(list(mnist_x_train))\n",
    "x_test = Tensor(list(mnist_x_test))\n",
    "y_train = Tensor(list(mnist_y_train))\n",
    "y_test = Tensor(list(mnist_y_test))"
   ]
  },
  {
   "cell_type": "code",
   "execution_count": 3,
   "id": "b2952772",
   "metadata": {},
   "outputs": [
    {
     "name": "stdout",
     "output_type": "stream",
     "text": [
      "x_train=(60000, 784), y_train=(60000, 10)\n",
      "x_test=(10000, 784), y_test=(10000, 10)\n"
     ]
    }
   ],
   "source": [
    "rng = np.random.default_rng(seed=1)\n",
    "\n",
    "# Scale down pixels from 0-255 to 0-1\n",
    "x_train = x_train / 255\n",
    "x_test = x_test / 255\n",
    "\n",
    "# OneHot label vectors\n",
    "def onehot(vector):\n",
    "    tmp = []\n",
    "    for scalar in vector.data:\n",
    "        tmp2 = [1 if i==scalar else 0 for i in range(10)]\n",
    "        tmp.append(tmp2)\n",
    "    return Tensor(tmp)\n",
    "y_train = onehot(y_train)\n",
    "y_test = onehot(y_test)\n",
    "\n",
    "print(f'x_train={x_train.shape}, y_train={y_train.shape}')\n",
    "print(f'x_test={x_test.shape}, y_test={y_test.shape}')"
   ]
  },
  {
   "cell_type": "code",
   "execution_count": 4,
   "id": "185d55af",
   "metadata": {},
   "outputs": [
    {
     "data": {
      "image/png": "[encoded data removed]",
      "text/plain": [
       "<Figure size 432x288 with 1 Axes>"
      ]
     },
     "metadata": {
      "needs_background": "light"
     },
     "output_type": "display_data"
    }
   ],
   "source": [
    "# Visualize X\n",
    "img = np.array(x_train[0].tolist())\n",
    "plt.imshow(img.reshape(28, 28),cmap='gray')\n",
    "plt.show()"
   ]
  },
  {
   "cell_type": "code",
   "execution_count": 5,
   "id": "2c8ff148",
   "metadata": {},
   "outputs": [],
   "source": [
    "# Multinomial sampling with replacement\n",
    "def draw_batch(batch_size): \n",
    "    draw = lambda: int(rng.random() * x_train.shape[0])\n",
    "    batch = [draw() for _ in range(batch_size)]\n",
    "    return x_train[batch], y_train[batch]\n",
    "\n",
    "mlp = nn.MLP((\n",
    "    nn.Linear(784, 512),\n",
    "    nn.Tanh(),\n",
    "    nn.Linear(512, 256),\n",
    "    nn.Tanh(),\n",
    "    nn.Linear(256, 10, bias=False),\n",
    "    nn.Softmax()\n",
    "))\n",
    "losses = []"
   ]
  },
  {
   "cell_type": "code",
   "execution_count": 6,
   "id": "29bd7e1f",
   "metadata": {},
   "outputs": [
    {
     "name": "stdout",
     "output_type": "stream",
     "text": [
      "std=9.598154952442092\n",
      "std=21.55630229615948\n",
      "std=14.802795775090653\n",
      "Epoch 0: 20.338740158985715\n",
      "Epoch 1: 19.21460996850951\n",
      "Epoch 2: 20.53331758205468\n",
      "Epoch 3: 17.60333631539521\n",
      "Epoch 4: 17.696871309130174\n",
      "Epoch 5: 21.892437309477867\n",
      "Epoch 6: 18.88225884000495\n",
      "Epoch 7: 19.012630572456167\n",
      "Epoch 8: 16.766683589286394\n",
      "Epoch 9: 17.17503215716352\n",
      "Epoch 10: 15.146062734096292\n",
      "Epoch 11: 14.767604929224872\n",
      "Epoch 12: 12.826495541147574\n",
      "Epoch 13: 12.875519011923814\n",
      "Epoch 14: 18.10814756845869\n",
      "Epoch 15: 10.825927434395563\n",
      "Epoch 16: 11.73111811773739\n",
      "Epoch 17: 12.399548579191789\n",
      "Epoch 18: 13.183970106585836\n",
      "Epoch 19: 11.541283698693167\n",
      "Epoch 20: 12.887014576532584\n",
      "Epoch 21: 9.663749767847602\n",
      "Epoch 22: 8.573141426867185\n",
      "Epoch 23: 9.355668410645833\n",
      "Epoch 24: 10.759781421153953\n",
      "Epoch 25: 9.89177918029521\n",
      "Epoch 26: 11.521535276765745\n",
      "Epoch 27: 9.472820622260045\n",
      "Epoch 28: 9.839299519914661\n",
      "Epoch 29: 10.406140315814845\n",
      "Epoch 30: 8.195405277638473\n",
      "Epoch 31: 8.367413373508558\n",
      "Epoch 32: 7.901121701826488\n",
      "Epoch 33: 7.762746402698159\n",
      "Epoch 34: 9.680218662290038\n",
      "Epoch 35: 8.228019291017054\n",
      "Epoch 36: 9.603371971329057\n",
      "Epoch 37: 8.111290707611541\n",
      "Epoch 38: 8.907032657838949\n",
      "Epoch 39: 6.010553781089691\n",
      "Epoch 40: 11.130018554310507\n",
      "Epoch 41: 7.850716993397634\n",
      "Epoch 42: 10.466730530858928\n",
      "Epoch 43: 12.194770315588292\n",
      "Epoch 44: 8.304244369778573\n",
      "Epoch 45: 6.259887775298999\n",
      "Epoch 46: 6.922171505762327\n",
      "Epoch 47: 6.052640217857595\n",
      "Epoch 48: 7.4810005671543935\n",
      "Epoch 49: 6.84495444005443\n",
      "Epoch 50: 9.25506600834855\n",
      "Epoch 51: 5.929209316556852\n",
      "Epoch 52: 6.5182747144631605\n",
      "Epoch 53: 5.484304531945392\n",
      "Epoch 54: 6.415976118346318\n",
      "Epoch 55: 7.422004628412369\n",
      "Epoch 56: 8.825662210518146\n",
      "Epoch 57: 6.567405794840845\n",
      "Epoch 58: 7.149366712719902\n",
      "Epoch 59: 6.185108406844465\n",
      "Epoch 60: 5.063217069364602\n",
      "Epoch 61: 4.961305418204038\n",
      "Epoch 62: 9.4266234397534\n",
      "Epoch 63: 6.317590723556947\n",
      "Epoch 64: 5.636503440117403\n",
      "Epoch 65: 5.632862371777141\n",
      "Epoch 66: 4.68657450747342\n",
      "Epoch 67: 5.018792020370848\n",
      "Epoch 68: 3.6018969867050155\n",
      "Epoch 69: 8.049546698065235\n",
      "Epoch 70: 7.031589786208869\n",
      "Epoch 71: 5.467096867950125\n",
      "Epoch 72: 3.7659122527864257\n",
      "Epoch 73: 4.733184064506572\n",
      "Epoch 74: 5.4363719583032015\n",
      "Epoch 75: 6.747793678410881\n",
      "Epoch 76: 6.145176353748807\n",
      "Epoch 77: 4.7704311977248235\n",
      "Epoch 78: 6.40332021684664\n",
      "Epoch 79: 4.784008679144055\n",
      "Epoch 80: 5.325852855105133\n",
      "Epoch 81: 5.916336597809515\n",
      "Epoch 82: 5.13553979892928\n",
      "Epoch 83: 3.7897770031491405\n",
      "Epoch 84: 3.0176668191119056\n",
      "Epoch 85: 4.3452251862769415\n",
      "Epoch 86: 2.5172635146554025\n",
      "Epoch 87: 5.315288575483538\n",
      "Epoch 88: 3.548968319606189\n",
      "Epoch 89: 6.759617326596826\n",
      "Epoch 90: 6.768046508373764\n",
      "Epoch 91: 5.911256980433369\n",
      "Epoch 92: 4.539046987002601\n",
      "Epoch 93: 2.742421591005792\n",
      "Epoch 94: 5.928180225896752\n",
      "Epoch 95: 4.417537668459391\n",
      "Epoch 96: 3.469916419565867\n",
      "Epoch 97: 4.729737179129929\n",
      "Epoch 98: 7.549346038657692\n",
      "Epoch 99: 5.911435596381801\n"
     ]
    },
    {
     "data": {
      "image/png": "[encoded data removed]",
      "text/plain": [
       "<Figure size 432x288 with 1 Axes>"
      ]
     },
     "metadata": {
      "needs_background": "light"
     },
     "output_type": "display_data"
    }
   ],
   "source": [
    "epochs = 100\n",
    "batch_size = 32\n",
    "lr = 0.1\n",
    "breakpoint = -1\n",
    "for e in range(epochs):\n",
    "    x, y = draw_batch(batch_size)\n",
    "    out = mlp(x, breakpoint=breakpoint, printstddev=(e==0))\n",
    "\n",
    "    loss = nn.nlll(out, y, reduction='mean')\n",
    "    loss.backward()\n",
    "    mlp.optimize(lr=lr)\n",
    "    mlp.zero_grad()\n",
    "\n",
    "    losses.append(loss.data.item())\n",
    "    print(f'Epoch {e}: {loss.data.item()}')\n",
    "\n",
    "plt.plot(losses)\n",
    "plt.show()"
   ]
  },
  {
   "cell_type": "code",
   "execution_count": 7,
   "id": "cbd55c1d",
   "metadata": {},
   "outputs": [
    {
     "data": {
      "text/plain": [
       "tensor([ 0.04128797, -0.15167559,  0.14818085, -0.0136215 ,  0.1251634 ,\n",
       "        0.14467503, -0.07792528, -0.20101752, -0.14374679,  0.0331366 ,\n",
       "        0.05398232,  0.14140907, -0.04756591, -0.00399738, -0.09362741,\n",
       "        0.07743337,  0.00229172, -0.06021012, -0.03078676, -0.10961989,\n",
       "        0.12214422, -0.06352059,  0.05529836, -0.15925548,  0.07874325,\n",
       "        0.11755414, -0.05377889, -0.02152543, -0.01164369,  0.11641599,\n",
       "       -0.10185886,  0.02874904,  0.0663776 , -0.07397892,  0.05667403,\n",
       "        0.00301777,  0.05486473, -0.04200142, -0.01519275, -0.06110945,\n",
       "        0.21362459, -0.15621992, -0.07740019,  0.07352853,  0.04774842,\n",
       "        0.07791233, -0.04797322,  0.1822433 ,  0.0790745 ,  0.11066157,\n",
       "       -0.03304722,  0.08170075,  0.05147787,  0.08513457,  0.13204709,\n",
       "       -0.15070362, -0.07762179, -0.02978607,  0.07388927,  0.00504716,\n",
       "        0.1266358 , -0.01758241,  0.11128143, -0.14404781, -0.00812092,\n",
       "        0.16661308,  0.10465788, -0.04054636,  0.02101246, -0.09481316,\n",
       "       -0.01496367, -0.08564876,  0.1631756 ,  0.059007  ,  0.10700038,\n",
       "        0.16560817, -0.06729822,  0.04648638,  0.01667709,  0.0210482 ,\n",
       "       -0.03614606,  0.2213417 , -0.03809724,  0.12707383, -0.14632316,\n",
       "       -0.08719875, -0.00672392,  0.05443683, -0.04121323,  0.06503401,\n",
       "        0.13858894,  0.04613929, -0.05991543,  0.02345732,  0.01856428,\n",
       "       -0.04692129,  0.02076909,  0.06215513, -0.32627516, -0.06260449,\n",
       "       -0.10692925,  0.14279217,  0.30017919, -0.01500069,  0.01490068,\n",
       "       -0.03576734, -0.0985158 , -0.05962366,  0.15284974,  0.00010015,\n",
       "       -0.09907967, -0.02237657,  0.09456583, -0.06837591, -0.08141847,\n",
       "       -0.17706434,  0.05127926, -0.01148015, -0.10949983, -0.01560896,\n",
       "        0.12449061,  0.0315325 , -0.07608013, -0.17230111, -0.02559518,\n",
       "       -0.04577886,  0.06369087, -0.02809922, -0.12823075, -0.04606131,\n",
       "        0.17529369,  0.10725071,  0.00042147,  0.03217321,  0.00923921,\n",
       "        0.17400007, -0.06427028,  0.04800785, -0.16068522,  0.15635922,\n",
       "        0.0592714 , -0.10282846, -0.07955776, -0.13343096,  0.00218329,\n",
       "       -0.08866181, -0.04710174, -0.05135166,  0.0428796 ,  0.14857716,\n",
       "        0.16194307,  0.08706811,  0.15877916, -0.03806876,  0.04007628,\n",
       "        0.02359988,  0.16536764,  0.20047721,  0.17818578, -0.08825282,\n",
       "       -0.03277702, -0.04216626, -0.06397996,  0.0289559 , -0.08141543,\n",
       "       -0.09446067,  0.01812801,  0.01918988, -0.1895636 ,  0.00028013,\n",
       "       -0.10216106,  0.08767118,  0.01165087,  0.04417151, -0.05692809,\n",
       "       -0.06937536,  0.1321374 ,  0.03703075, -0.03485812,  0.09955996,\n",
       "        0.08352704,  0.06566358, -0.11130259,  0.14276324, -0.13310784,\n",
       "       -0.0654162 ,  0.1789665 , -0.14093563,  0.01227174,  0.02308625,\n",
       "        0.03620173, -0.06137053,  0.18535333,  0.06034475, -0.1979089 ,\n",
       "       -0.16058742,  0.10175459,  0.01660512,  0.16253017, -0.00283188,\n",
       "        0.16184536,  0.1571151 , -0.10317324,  0.06117273, -0.12072702,\n",
       "       -0.14392549,  0.12067788, -0.09650271, -0.05720061,  0.00942098,\n",
       "        0.00543915, -0.1473889 , -0.02954775, -0.09456848,  0.06411926,\n",
       "       -0.03731997, -0.14843637,  0.02204502,  0.11228016, -0.03189472,\n",
       "       -0.30991168, -0.09227058, -0.02243376, -0.04099298, -0.02083117,\n",
       "        0.04031279, -0.13803277, -0.02608821, -0.07110089,  0.12942876,\n",
       "       -0.02032764, -0.00946081,  0.06560989,  0.03063425, -0.07599627,\n",
       "        0.06672974, -0.05423655, -0.0822814 , -0.26878324,  0.05259874,\n",
       "        0.00228844, -0.02254325, -0.05649106, -0.10890508, -0.14581657,\n",
       "        0.09828247, -0.04368971,  0.18143261, -0.01658696,  0.01049421,\n",
       "       -0.0077962 ,  0.00814732, -0.08308809, -0.06047083, -0.06187706,\n",
       "       -0.17650051,  0.04151018, -0.17130273,  0.05083005, -0.14027882,\n",
       "       -0.20405279,  0.07310361,  0.05304232, -0.08776677, -0.15448655,\n",
       "       -0.04827842, -0.08879237,  0.12726482, -0.10136224, -0.03195751,\n",
       "        0.08139194, -0.17946714, -0.06969683, -0.12027573,  0.15019845,\n",
       "        0.15253562,  0.0530367 ,  0.00884828,  0.04227045,  0.00106624,\n",
       "        0.16455999,  0.00907343, -0.12057463, -0.03756173, -0.048097  ,\n",
       "       -0.16341213,  0.17062306, -0.16622159,  0.13775319,  0.12170715,\n",
       "        0.0110339 , -0.00794971,  0.00858926, -0.14645886, -0.00364485,\n",
       "       -0.03263357,  0.08780056, -0.13549821,  0.00086   ,  0.05639703,\n",
       "        0.03136864,  0.08914233,  0.0408979 ,  0.0274795 ,  0.14006906,\n",
       "        0.12178442,  0.00774021,  0.0511518 ,  0.04840582,  0.17151998,\n",
       "        0.05607843, -0.20390805, -0.15539231,  0.02650521, -0.00446188,\n",
       "        0.00272087,  0.1449157 ,  0.15255984, -0.07770791, -0.1540826 ,\n",
       "        0.04542775,  0.0816922 , -0.01388647, -0.01946786, -0.08043156,\n",
       "        0.12182153,  0.00191605, -0.04333022, -0.16642187,  0.06312802,\n",
       "       -0.19540419,  0.21376629, -0.005323  , -0.05313924, -0.0517573 ,\n",
       "       -0.04730716,  0.04626067, -0.1078331 ,  0.00888629, -0.11257294,\n",
       "        0.09340174,  0.00604175, -0.0374316 ,  0.02154831, -0.08072615,\n",
       "        0.06983028,  0.01104257, -0.08413529,  0.19941576, -0.11872746,\n",
       "       -0.05188437,  0.04049195,  0.03665972, -0.02098667,  0.00637164,\n",
       "       -0.18523634, -0.08454246,  0.03838267,  0.04269816,  0.02850371,\n",
       "        0.02689965, -0.07978981,  0.16966171, -0.07936062, -0.0542413 ,\n",
       "        0.03199409, -0.01907258, -0.05521799, -0.08685602, -0.05103541,\n",
       "        0.06382374, -0.01361168,  0.05737006, -0.06099313, -0.11408296,\n",
       "       -0.00019768, -0.01440604, -0.05940888, -0.15324596, -0.03095021,\n",
       "       -0.08145544,  0.08765948, -0.16718394,  0.11984923,  0.07331311,\n",
       "        0.0832462 , -0.11050525, -0.09096658,  0.12595376,  0.07416502,\n",
       "       -0.23892791,  0.01590704,  0.07537696,  0.11434852,  0.08691751,\n",
       "       -0.14615107, -0.09880432,  0.11690941,  0.20773943,  0.05263002,\n",
       "        0.01208398, -0.0920237 , -0.16040991,  0.05425505, -0.08264989,\n",
       "       -0.16988173, -0.21578183,  0.03795046, -0.09185793, -0.07200177,\n",
       "       -0.00312283, -0.06175486,  0.0943986 ,  0.0194363 , -0.03143243,\n",
       "        0.06311301, -0.04220787, -0.05156309, -0.11107273, -0.02153758,\n",
       "       -0.12233887, -0.10850224,  0.05106468,  0.03504806, -0.09477459,\n",
       "       -0.00488846,  0.00139336,  0.07971053, -0.06457698, -0.08446163,\n",
       "       -0.01000273, -0.12818117, -0.08850965,  0.05400524,  0.09141831,\n",
       "        0.11517912,  0.08604481, -0.00982975, -0.14783931,  0.00067822,\n",
       "        0.22916969,  0.2094115 , -0.08855712, -0.02302663,  0.09131271,\n",
       "        0.03081221,  0.06431541, -0.09303025,  0.03587612, -0.01212032,\n",
       "       -0.11874308,  0.16873395,  0.06384289,  0.11744681,  0.06787545,\n",
       "        0.08025884,  0.0914689 ,  0.05790493,  0.15006024, -0.0096458 ,\n",
       "       -0.02615133,  0.11786153,  0.07538814, -0.03580647, -0.05513641,\n",
       "       -0.00027755,  0.01285135,  0.11925051,  0.10615159, -0.07728235,\n",
       "        0.02964366, -0.06847098, -0.04327581, -0.0149716 , -0.02165838,\n",
       "        0.22290196,  0.21228666,  0.05476544,  0.06772067,  0.15236309,\n",
       "       -0.06574899, -0.02964377,  0.10656413, -0.10577328,  0.04122926,\n",
       "        0.02275226, -0.07072893, -0.06360009, -0.15017092,  0.02853484,\n",
       "        0.22830805, -0.13324829, -0.03702458,  0.13854075,  0.0494983 ,\n",
       "       -0.2416844 , -0.00694658,  0.10943741,  0.08580711,  0.18319488,\n",
       "        0.0053727 , -0.04817043, -0.01513575, -0.05322232,  0.01885466,\n",
       "        0.02373723,  0.05728796, -0.06550781,  0.0638485 , -0.10278039,\n",
       "       -0.10855189,  0.07308528])"
      ]
     },
     "execution_count": 7,
     "metadata": {},
     "output_type": "execute_result"
    }
   ],
   "source": [
    "mlp.layers[0].bias"
   ]
  },
  {
   "cell_type": "code",
   "execution_count": 11,
   "id": "4d1fcdd0",
   "metadata": {},
   "outputs": [
    {
     "name": "stdout",
     "output_type": "stream",
     "text": [
      "Test accuracy: 38.58%\n"
     ]
    }
   ],
   "source": [
    "correct = 0\n",
    "for i in range(len(x_test.data)):\n",
    "    y = y_test[i]\n",
    "    x = mlp(x_test[i])\n",
    "    corr = np.argmax(y.data)\n",
    "    predicted = np.argmax(x.data)\n",
    "    if predicted == corr: correct += 1\n",
    "\n",
    "print(f'Test accuracy: {(correct/len(x_test.data))*100}%')"
   ]
  },
  {
   "cell_type": "code",
   "execution_count": null,
   "id": "a9e91f0b",
   "metadata": {},
   "outputs": [],
   "source": []
  }
 ],
 "metadata": {
  "kernelspec": {
   "display_name": "Python 3 (ipykernel)",
   "language": "python",
   "name": "python3"
  },
  "language_info": {
   "codemirror_mode": {
    "name": "ipython",
    "version": 3
   },
   "file_extension": ".py",
   "mimetype": "text/x-python",
   "name": "python",
   "nbconvert_exporter": "python",
   "pygments_lexer": "ipython3",
   "version": "3.10.6"
  },
  "vscode": {
   "interpreter": {
    "hash": "916dbcbb3f70747c44a77c7bcd40155683ae19c65e1c03b4aa3499c5328201f1"
   }
  }
 },
 "nbformat": 4,
 "nbformat_minor": 5
}
