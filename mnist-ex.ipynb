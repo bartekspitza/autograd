{
 "cells": [
  {
   "cell_type": "code",
   "execution_count": 1,
   "id": "fd50b5f2",
   "metadata": {},
   "outputs": [],
   "source": [
    "from src.tensor import Tensor\n",
    "import src.nn as nn\n",
    "import matplotlib.pyplot as plt\n",
    "import numpy as np\n",
    "from mnist import MNIST\n",
    "np.set_printoptions(suppress=True)"
   ]
  },
  {
   "cell_type": "code",
   "execution_count": 2,
   "id": "c9693099",
   "metadata": {},
   "outputs": [],
   "source": [
    "mndata = MNIST('./mnist_dataset/')\n",
    "mndata.gz = True\n",
    "training, test = mndata.load_training(), mndata.load_testing()"
   ]
  },
  {
   "cell_type": "code",
   "execution_count": 3,
   "id": "b2952772",
   "metadata": {},
   "outputs": [],
   "source": [
    "X = np.array(training[0] + test[0], dtype=float)\n",
    "Y = np.array(list(training[1]) + list(test[1]), dtype=int)\n",
    "\n",
    "# Scale down pixels from 0-255 to 0-1\n",
    "X = X / 255.0\n",
    "\n",
    "# OneHot label vectors\n",
    "one_hot = np.zeros((Y.size, 10)) # (70000, 10)\n",
    "one_hot[np.arange(Y.size), Y] = 1\n",
    "Y = one_hot"
   ]
  },
  {
   "cell_type": "code",
   "execution_count": 4,
   "id": "50df552d",
   "metadata": {},
   "outputs": [
    {
     "name": "stdout",
     "output_type": "stream",
     "text": [
      "Sizes: train=56000, val=7000, test=7000\n"
     ]
    }
   ],
   "source": [
    "# Split\n",
    "n = len(X)\n",
    "tr, d = int(n*0.8), int(n*0.9)\n",
    "Xtr, Xdev, Xte = Tensor(X[:tr]), Tensor(X[tr:d]), Tensor(X[d:])\n",
    "Ytr, Ydev, Yte = Tensor(Y[:tr]), Tensor(Y[tr:d]), Tensor(Y[d:])\n",
    "print(f'Sizes: train={len(Xtr)}, val={len(Xdev)}, test={len(Xte)}')"
   ]
  },
  {
   "cell_type": "code",
   "execution_count": 5,
   "id": "185d55af",
   "metadata": {},
   "outputs": [
    {
     "data": {
      "image/png": "[encoded data removed]",
      "text/plain": [
       "<Figure size 432x288 with 1 Axes>"
      ]
     },
     "metadata": {
      "needs_background": "light"
     },
     "output_type": "display_data"
    }
   ],
   "source": [
    "# Visualize X\n",
    "img = np.array(Xtr[0].tolist())\n",
    "plt.imshow(img.reshape(28, 28),cmap='gray')\n",
    "plt.show()"
   ]
  },
  {
   "cell_type": "code",
   "execution_count": 6,
   "id": "2c8ff148",
   "metadata": {},
   "outputs": [],
   "source": [
    "# Multinomial sampling with replacement\n",
    "rng = np.random.default_rng(seed=1)\n",
    "def draw_batch(batch_size): \n",
    "    draw = lambda: int(rng.random() * len(Xtr))\n",
    "    batch = [draw() for _ in range(batch_size)]\n",
    "    return Xtr[batch], Ytr[batch]\n",
    "\n",
    "def accuracy(split):\n",
    "    x, y = {'train': (Xtr, Ytr), 'dev': (Xdev, Ydev), 'test': (Xte, Yte)}[split]\n",
    "    global mlp\n",
    "    x = mlp(x) # (7000, 10)\n",
    "    correct = (x.data.argmax(1) == y.data.argmax(1)).sum()\n",
    "    acc = (correct / len(x)) * 100\n",
    "    print(f'{split}-accuracy: {acc:.2f}%')"
   ]
  },
  {
   "cell_type": "code",
   "execution_count": 7,
   "id": "f6ad381d",
   "metadata": {},
   "outputs": [],
   "source": [
    "mlp = nn.Sequential((\n",
    "    nn.Linear(784, 512),\n",
    "    nn.BatchNorm(512),\n",
    "    nn.Tanh(),\n",
    "\n",
    "    nn.Linear(512, 256),\n",
    "    nn.BatchNorm(256),\n",
    "    nn.Tanh(),\n",
    "\n",
    "    nn.Linear(256, 128),\n",
    "    nn.BatchNorm(128),\n",
    "    nn.Tanh(),\n",
    "\n",
    "    nn.Linear(128, 10, bias=False),\n",
    "    nn.Softmax()\n",
    "))\n",
    "#mlp[0].W = mlp[0].W * 0.11\n",
    "#mlp[2].W = mlp[2].W * 0.07\n",
    "#mlp[4].W = mlp[4].W * 0.11\n",
    "losses = []\n",
    "dev_losses = []"
   ]
  },
  {
   "cell_type": "code",
   "execution_count": 8,
   "id": "29bd7e1f",
   "metadata": {},
   "outputs": [
    {
     "name": "stdout",
     "output_type": "stream",
     "text": [
      "std=9.666515705747623\n",
      "std=0.9999999999999999\n",
      "std=14.159642725957102\n",
      "std=1.0\n",
      "std=10.36710368108836\n",
      "std=1.0\n",
      "std=7.050238506934789\n",
      "Step 0: train=11.53872066665441\n",
      "Step 1: train=8.817914451860323\n",
      "Step 2: train=9.829973448899413\n",
      "Step 3: train=10.592179371359935\n",
      "Step 4: train=8.583608267639498\n",
      "Step 5: train=7.121898875348039\n",
      "Step 6: train=6.691614599845734\n",
      "Step 7: train=8.124414049802777\n",
      "Step 8: train=6.775068281020131\n",
      "Step 9: train=9.748172364565127\n",
      "Step 10: train=7.431953800220765\n",
      "Step 11: train=5.6718472805515034\n",
      "Step 12: train=5.995981772675524\n",
      "Step 13: train=6.226010839110062\n",
      "Step 14: train=6.927217712155876\n",
      "Step 15: train=5.130893319757444\n",
      "Step 16: train=4.876436586199368\n",
      "Step 17: train=5.7366458671997\n",
      "Step 18: train=4.6656851853770425\n",
      "Step 19: train=4.507428612108415\n",
      "Step 20: train=2.8272046608831696\n",
      "Step 21: train=5.266645277520971\n",
      "Step 22: train=5.136563746538679\n",
      "Step 23: train=2.3572170279991904\n",
      "Step 24: train=4.341007332654078\n",
      "Step 25: train=4.042733564041038\n",
      "Step 26: train=5.766973622456513\n",
      "Step 27: train=3.917678366438283\n",
      "Step 28: train=3.6960520210125156\n",
      "Step 29: train=3.6208597008913066\n",
      "Step 30: train=3.795243032441358\n",
      "Step 31: train=4.14725116841192\n",
      "Step 32: train=3.47544955270492\n",
      "Step 33: train=2.7329038641027243\n",
      "Step 34: train=3.0930463574929306\n",
      "Step 35: train=3.0814279802850884\n",
      "Step 36: train=3.8909241311110727\n",
      "Step 37: train=3.409653249570546\n",
      "Step 38: train=4.557122138752343\n",
      "Step 39: train=2.400860716530185\n",
      "Step 40: train=4.502511544685305\n",
      "Step 41: train=2.816114150779633\n",
      "Step 42: train=2.5098737042573536\n",
      "Step 43: train=2.0826570996716876\n",
      "Step 44: train=2.5043656708802797\n",
      "Step 45: train=4.975258303454586\n",
      "Step 46: train=1.3998600867041442\n",
      "Step 47: train=2.1454199644946836\n",
      "Step 48: train=3.5662673389946598\n",
      "Step 49: train=2.3821309323482094\n",
      "Step 50: train=2.0434654157520145\n",
      "Step 51: train=3.0106087171095113\n",
      "Step 52: train=2.019273828691236\n",
      "Step 53: train=1.84237784644768\n",
      "Step 54: train=2.121554146531958\n",
      "Step 55: train=2.5265511220569197\n",
      "Step 56: train=2.826840561129867\n",
      "Step 57: train=2.611644955998897\n",
      "Step 58: train=2.0892390474633906\n",
      "Step 59: train=4.1703346860430015\n",
      "Step 60: train=1.5650710089723012\n",
      "Step 61: train=0.7015031872986462\n",
      "Step 62: train=1.656520008418661\n",
      "Step 63: train=2.1850310077433104\n",
      "Step 64: train=2.426782782119118\n",
      "Step 65: train=2.777322356972921\n",
      "Step 66: train=1.4646223364176443\n",
      "Step 67: train=1.1881883750417321\n",
      "Step 68: train=1.8148904777780264\n",
      "Step 69: train=2.57157538613464\n",
      "Step 70: train=1.9643072855684327\n",
      "Step 71: train=2.724006830550419\n",
      "Step 72: train=1.1237682918796592\n",
      "Step 73: train=2.477589918486782\n",
      "Step 74: train=1.709533980386834\n",
      "Step 75: train=3.0398735300733453\n",
      "Step 76: train=1.293601273817245\n",
      "Step 77: train=2.1633747278852815\n",
      "Step 78: train=0.9145674986914444\n",
      "Step 79: train=1.5234251345430039\n",
      "Step 80: train=2.2103000794098584\n",
      "Step 81: train=0.9158891299315031\n",
      "Step 82: train=3.5500213368494435\n",
      "Step 83: train=2.3837315990915395\n",
      "Step 84: train=2.1133658833087896\n",
      "Step 85: train=1.6023311140812697\n",
      "Step 86: train=1.7323180968165683\n",
      "Step 87: train=2.517919243934831\n",
      "Step 88: train=1.244561542539937\n",
      "Step 89: train=2.1975934889228097\n",
      "Step 90: train=2.403217851409808\n",
      "Step 91: train=2.960864753917199\n",
      "Step 92: train=1.2363557144049655\n",
      "Step 93: train=1.9883590572685164\n",
      "Step 94: train=1.8953367325568629\n",
      "Step 95: train=1.9109533639904215\n",
      "Step 96: train=1.33698691322527\n",
      "Step 97: train=3.1611166395548826\n",
      "Step 98: train=1.3792377351524583\n",
      "Step 99: train=1.3136500018834214\n"
     ]
    },
    {
     "data": {
      "image/png": "[encoded data removed]",
      "text/plain": [
       "<Figure size 432x288 with 1 Axes>"
      ]
     },
     "metadata": {
      "needs_background": "light"
     },
     "output_type": "display_data"
    }
   ],
   "source": [
    "steps = 100\n",
    "batch_size = 32\n",
    "lr = 0.1\n",
    "breakpoint = -1\n",
    "for i in range(steps):\n",
    "    x, y = draw_batch(batch_size)\n",
    "    out = mlp(x, breakpoint=breakpoint, printstddev=(i==0))\n",
    "\n",
    "    loss = nn.nlll(out, y, reduction='mean')\n",
    "    loss.backward()\n",
    "\n",
    "    mlp.optimize(lr=lr)\n",
    "    mlp.zero_grad()\n",
    "\n",
    "    loss = loss.data.item()\n",
    "    losses.append(loss)\n",
    "    #dev_loss = nn.nlll(mlp(Xdev), Ydev, reduction='mean').data.item()\n",
    "    #dev_losses.append(dev_loss)\n",
    "    #print(f'Step {i}: train={loss}, val={dev_loss}')\n",
    "    print(f'Step {i}: train={loss}')\n",
    "\n",
    "plt.plot(losses, label='train')\n",
    "plt.plot(dev_losses, label='dev')\n",
    "plt.show()"
   ]
  },
  {
   "cell_type": "code",
   "execution_count": 9,
   "id": "45bec8f4",
   "metadata": {},
   "outputs": [
    {
     "name": "stdout",
     "output_type": "stream",
     "text": [
      "test-accuracy: 71.03%\n"
     ]
    }
   ],
   "source": [
    "accuracy('test')"
   ]
  },
  {
   "cell_type": "code",
   "execution_count": null,
   "id": "ffc85d89",
   "metadata": {},
   "outputs": [],
   "source": []
  }
 ],
 "metadata": {
  "kernelspec": {
   "display_name": "Python 3 (ipykernel)",
   "language": "python",
   "name": "python3"
  },
  "language_info": {
   "codemirror_mode": {
    "name": "ipython",
    "version": 3
   },
   "file_extension": ".py",
   "mimetype": "text/x-python",
   "name": "python",
   "nbconvert_exporter": "python",
   "pygments_lexer": "ipython3",
   "version": "3.10.6"
  },
  "vscode": {
   "interpreter": {
    "hash": "916dbcbb3f70747c44a77c7bcd40155683ae19c65e1c03b4aa3499c5328201f1"
   }
  }
 },
 "nbformat": 4,
 "nbformat_minor": 5
}
