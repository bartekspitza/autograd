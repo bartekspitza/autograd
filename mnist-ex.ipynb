{
 "cells": [
  {
   "cell_type": "code",
   "execution_count": 23,
   "id": "fd50b5f2",
   "metadata": {},
   "outputs": [],
   "source": [
    "from src.tensor import Tensor\n",
    "import src.nn as nn\n",
    "import matplotlib.pyplot as plt\n",
    "import numpy as np\n",
    "from mnist import MNIST\n",
    "np.set_printoptions(suppress=True)"
   ]
  },
  {
   "cell_type": "code",
   "execution_count": 24,
   "id": "c9693099",
   "metadata": {},
   "outputs": [],
   "source": [
    "mndata = MNIST('./mnist_dataset/')\n",
    "mndata.gz = True\n",
    "training, test = mndata.load_training(), mndata.load_testing()"
   ]
  },
  {
   "cell_type": "code",
   "execution_count": 25,
   "id": "b2952772",
   "metadata": {},
   "outputs": [],
   "source": [
    "X = np.array(training[0] + test[0], dtype=float)\n",
    "Y = np.array(list(training[1]) + list(test[1]), dtype=int)\n",
    "\n",
    "# Scale down pixels from 0-255 to 0-1\n",
    "X = X / 255.0\n",
    "\n",
    "# OneHot label vectors\n",
    "one_hot = np.zeros((Y.size, 10)) # (70000, 10)\n",
    "one_hot[np.arange(Y.size), Y] = 1\n",
    "Y = one_hot"
   ]
  },
  {
   "cell_type": "code",
   "execution_count": 26,
   "id": "50df552d",
   "metadata": {},
   "outputs": [
    {
     "name": "stdout",
     "output_type": "stream",
     "text": [
      "Sizes: train=56000, val=7000, test=7000\n"
     ]
    }
   ],
   "source": [
    "# Split\n",
    "n = len(X)\n",
    "tr, d = int(n*0.8), int(n*0.9)\n",
    "Xtr, Xdev, Xte = Tensor(X[:tr]), Tensor(X[tr:d]), Tensor(X[d:])\n",
    "Ytr, Ydev, Yte = Tensor(Y[:tr]), Tensor(Y[tr:d]), Tensor(Y[d:])\n",
    "print(f'Sizes: train={len(Xtr)}, val={len(Xdev)}, test={len(Xte)}')"
   ]
  },
  {
   "cell_type": "code",
   "execution_count": 27,
   "id": "185d55af",
   "metadata": {},
   "outputs": [
    {
     "data": {
      "image/png": "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",
      "text/plain": [
       "<Figure size 432x288 with 1 Axes>"
      ]
     },
     "metadata": {
      "needs_background": "light"
     },
     "output_type": "display_data"
    }
   ],
   "source": [
    "# Visualize X\n",
    "img = np.array(Xtr[0].tolist())\n",
    "plt.imshow(img.reshape(28, 28),cmap='gray')\n",
    "plt.show()"
   ]
  },
  {
   "cell_type": "code",
   "execution_count": 28,
   "id": "2c8ff148",
   "metadata": {},
   "outputs": [],
   "source": [
    "# Multinomial sampling with replacement\n",
    "rng = np.random.default_rng(seed=1)\n",
    "def draw_batch(batch_size): \n",
    "    draw = lambda: int(rng.random() * len(Xtr))\n",
    "    batch = [draw() for _ in range(batch_size)]\n",
    "    return Xtr[batch], Ytr[batch]"
   ]
  },
  {
   "cell_type": "code",
   "execution_count": 29,
   "id": "f6ad381d",
   "metadata": {},
   "outputs": [],
   "source": [
    "mlp = nn.Sequential((\n",
    "    nn.Linear(784, 512),\n",
    "    nn.Tanh(),\n",
    "    nn.Linear(512, 256),\n",
    "    nn.Tanh(),\n",
    "    nn.Linear(256, 10, bias=False),\n",
    "    nn.Softmax()\n",
    "))\n",
    "mlp[0].W = mlp[0].W * 0.11\n",
    "mlp[2].W = mlp[2].W * 0.07\n",
    "losses = []"
   ]
  },
  {
   "cell_type": "code",
   "execution_count": 30,
   "id": "29bd7e1f",
   "metadata": {},
   "outputs": [
    {
     "name": "stdout",
     "output_type": "stream",
     "text": [
      "std=1.0581464947401973\n",
      "std=0.968357010905607\n",
      "std=8.232953236166423\n",
      "Epoch 0: 13.758787772223906\n",
      "Epoch 1: 21.32040143506127\n",
      "Epoch 2: 26.922882682557717\n",
      "Epoch 3: 20.502934258006277\n",
      "Epoch 4: 13.360096948914617\n",
      "Epoch 5: 9.481189581967307\n",
      "Epoch 6: 9.488015374461757\n",
      "Epoch 7: 8.85398038716258\n",
      "Epoch 8: 4.0384806486475355\n",
      "Epoch 9: 3.94349705929514\n",
      "Epoch 10: 2.073870846170209\n",
      "Epoch 11: 3.1594697827679443\n",
      "Epoch 12: 3.1856132766167358\n",
      "Epoch 13: 3.2972225073532204\n",
      "Epoch 14: 2.449019501681256\n",
      "Epoch 15: 2.883857406427956\n",
      "Epoch 16: 3.5091132179601487\n",
      "Epoch 17: 2.5846637190741344\n",
      "Epoch 18: 2.951291143258033\n",
      "Epoch 19: 4.300872893980285\n",
      "Epoch 20: 1.2905490392851164\n",
      "Epoch 21: 1.1239616860034758\n",
      "Epoch 22: 1.8909736196425375\n",
      "Epoch 23: 1.5264030649751372\n",
      "Epoch 24: 1.676307819517325\n",
      "Epoch 25: 1.829346562576459\n",
      "Epoch 26: 0.8995360238910324\n",
      "Epoch 27: 1.5509724605099664\n",
      "Epoch 28: 3.726466761306516\n",
      "Epoch 29: 3.021978325280888\n",
      "Epoch 30: 3.678415137941643\n",
      "Epoch 31: 1.0605310810443678\n",
      "Epoch 32: 2.3677407551171945\n",
      "Epoch 33: 2.520696615021331\n",
      "Epoch 34: 2.0030292948827837\n",
      "Epoch 35: 4.915258777106709\n",
      "Epoch 36: 2.322122678496676\n",
      "Epoch 37: 3.5731435938569076\n",
      "Epoch 38: 1.5607158086362123\n",
      "Epoch 39: 1.7674458666048447\n",
      "Epoch 40: 4.110468938654328\n",
      "Epoch 41: 0.8872850200707976\n",
      "Epoch 42: 1.1327526861779238\n",
      "Epoch 43: 1.5592957056668661\n",
      "Epoch 44: 2.4113677124488135\n",
      "Epoch 45: 2.4371718627239427\n",
      "Epoch 46: 3.210938027537532\n",
      "Epoch 47: 1.686837269263021\n",
      "Epoch 48: 2.2600763514262554\n",
      "Epoch 49: 0.8063958742038488\n",
      "Epoch 50: 0.293080775784285\n",
      "Epoch 51: 0.45131209901842184\n",
      "Epoch 52: 2.0763470196815\n",
      "Epoch 53: 1.1911980609104598\n",
      "Epoch 54: 0.9298162922711757\n",
      "Epoch 55: 1.3388304331521002\n",
      "Epoch 56: 1.1671373032824701\n",
      "Epoch 57: 2.2960978803221646\n",
      "Epoch 58: 1.6422861186321576\n",
      "Epoch 59: 1.8047128529806906\n",
      "Epoch 60: 1.036455386563942\n",
      "Epoch 61: 0.525746080658488\n",
      "Epoch 62: 1.5741356127835078\n",
      "Epoch 63: 0.8305595710203038\n",
      "Epoch 64: 2.5703308640233358\n",
      "Epoch 65: 1.9872604225610477\n",
      "Epoch 66: 1.0104126156922495\n",
      "Epoch 67: 0.6329528473034498\n",
      "Epoch 68: 2.6404331880983776\n",
      "Epoch 69: 1.1233844665049413\n",
      "Epoch 70: 1.720401665319586\n",
      "Epoch 71: 3.5683596663326806\n",
      "Epoch 72: 1.1238091868399447\n",
      "Epoch 73: 2.207949469431594\n",
      "Epoch 74: 1.263860431556549\n",
      "Epoch 75: 1.9427098704934318\n",
      "Epoch 76: 0.5453015771650174\n",
      "Epoch 77: 2.041239950117773\n",
      "Epoch 78: 0.7892513773403173\n",
      "Epoch 79: 1.467380053264433\n",
      "Epoch 80: 2.2814659688658265\n",
      "Epoch 81: 0.649784504397995\n",
      "Epoch 82: 1.4627439610098838\n",
      "Epoch 83: 1.746254610530975\n",
      "Epoch 84: 1.501522700177448\n",
      "Epoch 85: 0.8804276910794773\n",
      "Epoch 86: 0.45643814247571035\n",
      "Epoch 87: 1.4401037312955811\n",
      "Epoch 88: 0.9142607456255063\n",
      "Epoch 89: 0.42754488443381233\n",
      "Epoch 90: 1.826568299408073\n",
      "Epoch 91: 0.8890394879767707\n",
      "Epoch 92: 0.8192840817756036\n",
      "Epoch 93: 0.5814326341361425\n",
      "Epoch 94: 0.3834045850541006\n",
      "Epoch 95: 1.1257900123702291\n",
      "Epoch 96: 1.825063954506545\n",
      "Epoch 97: 1.1859643942556009\n",
      "Epoch 98: 0.8268503008907895\n",
      "Epoch 99: 0.835814345743303\n"
     ]
    },
    {
     "data": {
      "image/png": "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",
      "text/plain": [
       "<Figure size 432x288 with 1 Axes>"
      ]
     },
     "metadata": {
      "needs_background": "light"
     },
     "output_type": "display_data"
    }
   ],
   "source": [
    "epochs = 100\n",
    "batch_size = 32\n",
    "lr = 0.01\n",
    "breakpoint = -1\n",
    "for e in range(epochs):\n",
    "    x, y = draw_batch(batch_size)\n",
    "    out = mlp(x, breakpoint=breakpoint, printstddev=(e==0))\n",
    "\n",
    "    loss = nn.nlll(out, y, reduction='mean')\n",
    "    loss.backward()\n",
    "    mlp.optimize(lr=lr)\n",
    "    mlp.zero_grad()\n",
    "\n",
    "    losses.append(loss.data.item())\n",
    "    print(f'Epoch {e}: {loss.data.item()}')\n",
    "\n",
    "plt.plot(losses)\n",
    "plt.show()"
   ]
  },
  {
   "cell_type": "code",
<<<<<<< HEAD
   "execution_count": 31,
=======
   "execution_count": 45,
>>>>>>> cac4ba0 (splitting into train val test splits)
   "id": "4d1fcdd0",
   "metadata": {},
   "outputs": [
    {
     "name": "stdout",
     "output_type": "stream",
     "text": [
<<<<<<< HEAD
      "Test accuracy: 85.1%\n"
=======
      "Test accuracy: 85.10%\n"
>>>>>>> cac4ba0 (splitting into train val test splits)
     ]
    }
   ],
   "source": [
<<<<<<< HEAD
    "correct = 0\n",
    "for i in range(len(Xte)):\n",
    "    y = Yte[i]\n",
    "    x = mlp(Xte[i])\n",
    "    corr = np.argmax(y.data)\n",
    "    predicted = np.argmax(x.data)\n",
    "    if predicted == corr: correct += 1\n",
    "\n",
    "print(f'Test accuracy: {(correct/len(Xte.data))*100}%')"
=======
    "x = mlp(Xte) # (7000, 10)\n",
    "correct = (x.data.argmax(1) == Yte.data.argmax(1)).sum()\n",
    "acc = (correct / len(Xte)) * 100\n",
    "print(f'Test accuracy: {acc:.2f}%')"
>>>>>>> cac4ba0 (splitting into train val test splits)
   ]
  }
 ],
 "metadata": {
  "kernelspec": {
   "display_name": "Python 3 (ipykernel)",
   "language": "python",
   "name": "python3"
  },
  "language_info": {
   "codemirror_mode": {
    "name": "ipython",
    "version": 3
   },
   "file_extension": ".py",
   "mimetype": "text/x-python",
   "name": "python",
   "nbconvert_exporter": "python",
   "pygments_lexer": "ipython3",
   "version": "3.10.6"
  },
  "vscode": {
   "interpreter": {
    "hash": "916dbcbb3f70747c44a77c7bcd40155683ae19c65e1c03b4aa3499c5328201f1"
   }
  }
 },
 "nbformat": 4,
 "nbformat_minor": 5
}
