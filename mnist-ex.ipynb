{
 "cells": [
  {
   "cell_type": "code",
   "execution_count": 1,
   "id": "fd50b5f2",
   "metadata": {},
   "outputs": [],
   "source": [
    "import nn\n",
    "import math\n",
    "import random\n",
    "import matplotlib.pyplot as plt\n",
    "import numpy as np\n",
    "from mnist import MNIST"
   ]
  },
  {
   "cell_type": "code",
   "execution_count": 2,
   "id": "b2952772",
   "metadata": {},
   "outputs": [
    {
     "name": "stdout",
     "output_type": "stream",
     "text": [
      "x_train=(60000, 784), y_train=(60000, 10)\n",
      "x_test=(10000, 784), y_test=(10000, 10)\n"
     ]
    }
   ],
   "source": [
    "mndata = MNIST('./mnist-example/')\n",
    "mndata.gz = True\n",
    "\n",
    "x_train, y_train = mndata.load_training()\n",
    "x_test, y_test = mndata.load_testing()\n",
    "x_train = nn.Tensor(x_train)\n",
    "x_test = nn.Tensor(x_test)\n",
    "y_train = nn.Tensor(list(y_train))\n",
    "y_test = nn.Tensor(list(y_test))\n",
    "\n",
    "# Scale down pixels from 0-255 to 0-1\n",
    "x_train = x_train / 255\n",
    "x_test = x_test / 255\n",
    "\n",
    "# OneHot label vectors\n",
    "def onehot(vector):\n",
    "    tmp = []\n",
    "    for scalar in vector.data:\n",
    "        tmp2 = [1 if i==scalar else 0 for i in range(10)]\n",
    "        tmp.append(tmp2)\n",
    "    return nn.Tensor(tmp)\n",
    "y_train = onehot(y_train)\n",
    "y_test = onehot(y_test)\n",
    "\n",
    "print(f'x_train={x_train.shape}, y_train={y_train.shape}')\n",
    "print(f'x_test={x_test.shape}, y_test={y_test.shape}')"
   ]
  },
  {
   "cell_type": "code",
   "execution_count": 3,
   "id": "185d55af",
   "metadata": {},
   "outputs": [
    {
     "data": {
      "image/png": "[encoded data removed]",
      "text/plain": [
       "<Figure size 432x288 with 1 Axes>"
      ]
     },
     "metadata": {
      "needs_background": "light"
     },
     "output_type": "display_data"
    }
   ],
   "source": [
    "# Visualize X\n",
    "img = np.array(x_train[0].tolist())\n",
    "plt.imshow(img.reshape(28, 28))\n",
    "plt.show()"
   ]
  },
  {
   "cell_type": "code",
   "execution_count": 4,
   "id": "dfc587bb",
   "metadata": {},
   "outputs": [],
   "source": [
    "# Init model, 200 neurons\n",
    "W = nn.randn((784, 200))\n",
    "act = nn.tanh\n",
    "b = nn.randn((200,))\n",
    "O = nn.randn((200, 10))"
   ]
  },
  {
   "cell_type": "code",
   "execution_count": 12,
   "id": "35dae061",
   "metadata": {},
   "outputs": [
    {
     "name": "stdout",
     "output_type": "stream",
     "text": [
      "29.475447046662545\n",
      "17.63503796547327\n",
      "15.347788295112432\n",
      "22.01949126805346\n",
      "19.15246047842383\n",
      "21.76552213292913\n",
      "17.344984818722196\n",
      "18.42138467221627\n",
      "24.135957227318126\n",
      "20.665906604772093\n"
     ]
    }
   ],
   "source": [
    "epochs = 10\n",
    "for _ in range(epochs):\n",
    "    batch_size = 10\n",
    "    loss = nn.ones((batch_size, ))\n",
    "    for batch in range(batch_size):\n",
    "        i = random.randint(0, x_train.shape[0])\n",
    "        ins = x_train[i]\n",
    "\n",
    "        # Forward\n",
    "        h1 = (ins@W) + b\n",
    "        h1 = act(h1)\n",
    "        out = h1@O\n",
    "        # Softmax\n",
    "        out = out.exp()\n",
    "        out = out / nn.sum(out)\n",
    "        # Loss\n",
    "        groundtruth = y_train[i]\n",
    "        maximum_likelihood = nn.sum(groundtruth*out) # .sum() funcitons as argmax\n",
    "        neg_log_loss = -math.log(maximum_likelihood)\n",
    "        loss[batch] = neg_log_loss\n",
    "\n",
    "    avg_loss = nn.sum(loss) / batch_size\n",
    "    print(avg_loss)\n",
    "    "
   ]
  },
  {
   "cell_type": "code",
   "execution_count": null,
   "id": "84f676a4",
   "metadata": {},
   "outputs": [],
   "source": []
  }
 ],
 "metadata": {
  "kernelspec": {
   "display_name": "Python 3 (ipykernel)",
   "language": "python",
   "name": "python3"
  },
  "language_info": {
   "codemirror_mode": {
    "name": "ipython",
    "version": 3
   },
   "file_extension": ".py",
   "mimetype": "text/x-python",
   "name": "python",
   "nbconvert_exporter": "python",
   "pygments_lexer": "ipython3",
   "version": "3.10.6"
  },
  "vscode": {
   "interpreter": {
    "hash": "916dbcbb3f70747c44a77c7bcd40155683ae19c65e1c03b4aa3499c5328201f1"
   }
  }
 },
 "nbformat": 4,
 "nbformat_minor": 5
}
