{
 "cells": [
  {
   "cell_type": "code",
   "execution_count": 1,
   "id": "fd50b5f2",
   "metadata": {},
   "outputs": [],
   "source": [
    "from src.tensor import Tensor\n",
    "import src.nn as nn\n",
    "import matplotlib.pyplot as plt\n",
    "import numpy as np\n",
    "from mnist import MNIST\n",
    "np.set_printoptions(suppress=True)"
   ]
  },
  {
   "cell_type": "code",
   "execution_count": 2,
   "id": "c9693099",
   "metadata": {},
   "outputs": [],
   "source": [
    "mndata = MNIST('./mnist_dataset/')\n",
    "mndata.gz = True\n",
    "mnist_x_train, mnist_y_train = mndata.load_training()\n",
    "mnist_x_test, mnist_y_test = mndata.load_testing()"
   ]
  },
  {
   "cell_type": "code",
   "execution_count": 3,
   "id": "e65fa1a1",
   "metadata": {},
   "outputs": [],
   "source": [
    "x_train = Tensor(list(mnist_x_train))\n",
    "x_test = Tensor(list(mnist_x_test))\n",
    "y_train = Tensor(list(mnist_y_train))\n",
    "y_test = Tensor(list(mnist_y_test))"
   ]
  },
  {
   "cell_type": "code",
   "execution_count": 4,
   "id": "6c774101",
   "metadata": {},
   "outputs": [],
   "source": [
    "rng = np.random.default_rng(seed=1)"
   ]
  },
  {
   "cell_type": "code",
   "execution_count": 5,
   "id": "b2952772",
   "metadata": {},
   "outputs": [
    {
     "name": "stdout",
     "output_type": "stream",
     "text": [
      "x_train=(60000, 784), y_train=(60000, 10)\n",
      "x_test=(10000, 784), y_test=(10000, 10)\n"
     ]
    }
   ],
   "source": [
    "# Scale down pixels from 0-255 to 0-1\n",
    "x_train = x_train / 255\n",
    "x_test = x_test / 255\n",
    "\n",
    "# OneHot label vectors\n",
    "def onehot(vector):\n",
    "    tmp = []\n",
    "    for scalar in vector.data:\n",
    "        tmp2 = [1 if i==scalar else 0 for i in range(10)]\n",
    "        tmp.append(tmp2)\n",
    "    return Tensor(tmp)\n",
    "y_train = onehot(y_train)\n",
    "y_test = onehot(y_test)\n",
    "\n",
    "print(f'x_train={x_train.shape}, y_train={y_train.shape}')\n",
    "print(f'x_test={x_test.shape}, y_test={y_test.shape}')"
   ]
  },
  {
   "cell_type": "code",
   "execution_count": 6,
   "id": "185d55af",
   "metadata": {},
   "outputs": [
    {
     "data": {
      "image/png": "[encoded data removed]",
      "text/plain": [
       "<Figure size 432x288 with 1 Axes>"
      ]
     },
     "metadata": {
      "needs_background": "light"
     },
     "output_type": "display_data"
    }
   ],
   "source": [
    "# Visualize X\n",
    "img = np.array(x_train[0].tolist())\n",
    "plt.imshow(img.reshape(28, 28))\n",
    "plt.show()"
   ]
  },
  {
   "cell_type": "code",
   "execution_count": 7,
   "id": "2c8ff148",
   "metadata": {},
   "outputs": [],
   "source": [
    "# Multinomial sampling with replacement\n",
    "def draw_batch(batch_size): \n",
    "    draw = lambda: int(rng.random() * x_train.shape[0])\n",
    "    batch = [draw() for _ in range(batch_size)]\n",
    "    return x_train[batch], y_train[batch]"
   ]
  },
  {
   "cell_type": "code",
   "execution_count": 35,
   "id": "906ea08a",
   "metadata": {},
   "outputs": [],
   "source": [
    "mlp = nn.MLP(inputs=784, hidden=[600, 300], outs=10)\n",
    "losses = []"
   ]
  },
  {
   "cell_type": "code",
   "execution_count": 36,
   "id": "29bd7e1f",
   "metadata": {},
   "outputs": [
    {
     "name": "stdout",
     "output_type": "stream",
     "text": [
      "Epoch 0: 26.310624927361506\n",
      "Epoch 1: 24.909620910809334\n",
      "Epoch 2: 21.940845228899793\n",
      "Epoch 3: 24.61615850058287\n",
      "Epoch 4: 19.078826881652308\n",
      "Epoch 5: 20.41296457712066\n",
      "Epoch 6: 18.82678100795623\n",
      "Epoch 7: 17.063125322057665\n",
      "Epoch 8: 17.34796511990998\n",
      "Epoch 9: 18.236210607057405\n",
      "Epoch 10: 18.444794996676453\n",
      "Epoch 11: 15.794871084369836\n",
      "Epoch 12: 13.718653638949043\n",
      "Epoch 13: 9.253617140694349\n",
      "Epoch 14: 14.220855165738513\n",
      "Epoch 15: 15.99850359644722\n",
      "Epoch 16: 15.621354742613628\n",
      "Epoch 17: 11.249628705493656\n",
      "Epoch 18: 12.037060326157917\n",
      "Epoch 19: 11.45391187283607\n",
      "Epoch 20: 12.813618289629742\n",
      "Epoch 21: 11.132772609485961\n",
      "Epoch 22: 11.281720955443138\n",
      "Epoch 23: 13.474264103571738\n",
      "Epoch 24: 9.219595948809518\n",
      "Epoch 25: 11.522573630514819\n",
      "Epoch 26: 10.67156906128589\n",
      "Epoch 27: 10.069189106333926\n",
      "Epoch 28: 9.201256483353227\n",
      "Epoch 29: 11.370195540484659\n",
      "Epoch 30: 8.995043226860506\n",
      "Epoch 31: 7.01907602620383\n",
      "Epoch 32: 7.772052430074092\n",
      "Epoch 33: 11.190172527307691\n",
      "Epoch 34: 9.435889840567961\n",
      "Epoch 35: 11.1687669640285\n",
      "Epoch 36: 9.430754033115873\n",
      "Epoch 37: 8.671039694519168\n",
      "Epoch 38: 6.964628054668955\n",
      "Epoch 39: 8.44104420131378\n",
      "Epoch 40: 6.990222642490021\n",
      "Epoch 41: 8.500594335888046\n",
      "Epoch 42: 8.612079283836188\n",
      "Epoch 43: 9.41850425932301\n",
      "Epoch 44: 8.594565709534807\n",
      "Epoch 45: 6.333808809150935\n",
      "Epoch 46: 6.880782599184747\n",
      "Epoch 47: 6.802787260329568\n",
      "Epoch 48: 7.391477111770971\n",
      "Epoch 49: 7.53397824687819\n",
      "Epoch 50: 6.425293509060507\n",
      "Epoch 51: 6.119438724664343\n",
      "Epoch 52: 5.14611821103922\n",
      "Epoch 53: 5.7577652082195945\n",
      "Epoch 54: 7.189613671058283\n",
      "Epoch 55: 7.79091507781877\n",
      "Epoch 56: 6.2098955972980585\n",
      "Epoch 57: 5.957141028282017\n",
      "Epoch 58: 8.484841182583073\n",
      "Epoch 59: 5.476070576322803\n",
      "Epoch 60: 5.172162581175787\n",
      "Epoch 61: 5.992489202636939\n",
      "Epoch 62: 6.9347868711559055\n",
      "Epoch 63: 6.570186032495582\n",
      "Epoch 64: 7.420023880507126\n",
      "Epoch 65: 6.557932814478708\n",
      "Epoch 66: 6.040457517436561\n",
      "Epoch 67: 7.622286876822931\n",
      "Epoch 68: 4.736549989382783\n",
      "Epoch 69: 4.9851213230271565\n",
      "Epoch 70: 5.307354460460834\n",
      "Epoch 71: 7.2735171211319365\n",
      "Epoch 72: 4.59394691951946\n",
      "Epoch 73: 5.961005932094963\n",
      "Epoch 74: 7.082541707395515\n",
      "Epoch 75: 6.179317128903292\n",
      "Epoch 76: 6.169797075118613\n",
      "Epoch 77: 4.249885597188772\n",
      "Epoch 78: 5.75796496564722\n",
      "Epoch 79: 5.7427257602275095\n",
      "Epoch 80: 6.225959577276906\n",
      "Epoch 81: 5.755333160446164\n",
      "Epoch 82: 3.3439132917810226\n",
      "Epoch 83: 6.192120852567683\n",
      "Epoch 84: 5.230347883161619\n",
      "Epoch 85: 6.65441086873724\n",
      "Epoch 86: 5.871155571293133\n",
      "Epoch 87: 3.562865981936948\n",
      "Epoch 88: 4.317741724033925\n",
      "Epoch 89: 4.415806316248611\n",
      "Epoch 90: 5.66575745547834\n",
      "Epoch 91: 5.593555238585792\n",
      "Epoch 92: 5.8382377119391045\n",
      "Epoch 93: 4.171477102486007\n",
      "Epoch 94: 5.402977458628416\n",
      "Epoch 95: 3.9902333565287966\n",
      "Epoch 96: 4.683704059899856\n",
      "Epoch 97: 5.473725938769388\n",
      "Epoch 98: 4.90958305436366\n",
      "Epoch 99: 4.029604222984678\n"
     ]
    }
   ],
   "source": [
    "epochs = 100\n",
    "batch_size = 100\n",
    "lr = 0.1\n",
    "for e in range(epochs):\n",
    "    x, y = draw_batch(batch_size)\n",
    "    out = mlp(x)\n",
    "\n",
    "    loss = nn.nlll(out, y, reduction='mean')\n",
    "\n",
    "    loss.backward()\n",
    "    mlp.train(lr=lr)\n",
    "\n",
    "    losses.append(loss.data.item())\n",
    "    print(f'Epoch {e}: {loss.data.item()}')"
   ]
  },
  {
   "cell_type": "code",
   "execution_count": 37,
   "id": "a6da103a",
   "metadata": {},
   "outputs": [
    {
     "data": {
      "image/png": "[encoded data removed]",
      "text/plain": [
       "<Figure size 432x288 with 1 Axes>"
      ]
     },
     "metadata": {
      "needs_background": "light"
     },
     "output_type": "display_data"
    }
   ],
   "source": [
    "plt.plot(losses)\n",
    "plt.show()"
   ]
  },
  {
   "cell_type": "code",
   "execution_count": 38,
   "id": "4d1fcdd0",
   "metadata": {},
   "outputs": [
    {
     "name": "stdout",
     "output_type": "stream",
     "text": [
      "Test accuracy: 62.74999999999999%\n"
     ]
    }
   ],
   "source": [
    "correct = 0\n",
    "for i in range(len(x_test.data)):\n",
    "    y = y_test[i]\n",
    "    x = mlp(x_test[i])\n",
    "    corr = np.argmax(y.data)\n",
    "    predicted = np.argmax(x.data)\n",
    "    if predicted == corr: correct += 1\n",
    "\n",
    "print(f'Test accuracy: {(correct/len(x_test.data))*100}%')"
   ]
  },
  {
   "cell_type": "code",
   "execution_count": null,
   "id": "c638d274",
   "metadata": {},
   "outputs": [],
   "source": []
  }
 ],
 "metadata": {
  "kernelspec": {
   "display_name": "Python 3 (ipykernel)",
   "language": "python",
   "name": "python3"
  },
  "language_info": {
   "codemirror_mode": {
    "name": "ipython",
    "version": 3
   },
   "file_extension": ".py",
   "mimetype": "text/x-python",
   "name": "python",
   "nbconvert_exporter": "python",
   "pygments_lexer": "ipython3",
   "version": "3.10.6"
  },
  "vscode": {
   "interpreter": {
    "hash": "916dbcbb3f70747c44a77c7bcd40155683ae19c65e1c03b4aa3499c5328201f1"
   }
  }
 },
 "nbformat": 4,
 "nbformat_minor": 5
}
