{
 "cells": [
  {
   "cell_type": "code",
   "execution_count": 1,
   "metadata": {},
   "outputs": [],
   "source": [
    "import matplotlib.pyplot as plt\n",
    "import torch\n",
    "from mnist import MNIST\n",
    "import numpy as np"
   ]
  },
  {
   "cell_type": "code",
   "execution_count": 2,
   "metadata": {},
   "outputs": [],
   "source": [
    "mndata = MNIST('./mnist_dataset/')\n",
    "mndata.gz = True\n",
    "mnist_x_train, mnist_y_train = mndata.load_training()\n",
    "mnist_x_test, mnist_y_test = mndata.load_testing()\n",
    "x_train = torch.tensor(list(mnist_x_train), dtype=float)\n",
    "x_test = torch.tensor(list(mnist_x_test), dtype=float)\n",
    "y_train = torch.tensor(list(mnist_y_train), dtype=float)\n",
    "y_test = torch.tensor(list(mnist_y_test), dtype=float)"
   ]
  },
  {
   "cell_type": "code",
   "execution_count": 3,
   "metadata": {},
   "outputs": [],
   "source": [
    "rng = np.random.default_rng(seed=1)"
   ]
  },
  {
   "cell_type": "code",
   "execution_count": 4,
   "metadata": {},
   "outputs": [
    {
     "name": "stdout",
     "output_type": "stream",
     "text": [
      "x_train=torch.Size([60000, 784]), y_train=torch.Size([60000, 10])\n",
      "x_test=torch.Size([10000, 784]), y_test=torch.Size([10000, 10])\n"
     ]
    }
   ],
   "source": [
    "# Scale down pixels from 0-255 to 0-1\n",
    "x_train = x_train / 255\n",
    "x_test = x_test / 255\n",
    "\n",
    "# OneHot label vectors\n",
    "def onehot(vector):\n",
    "    tmp = []\n",
    "    for scalar in vector.data:\n",
    "        tmp2 = [1 if i==scalar else 0 for i in range(10)]\n",
    "        tmp.append(tmp2)\n",
    "    return torch.tensor(tmp)\n",
    "y_train = onehot(y_train)\n",
    "y_test = onehot(y_test)\n",
    "\n",
    "print(f'x_train={x_train.shape}, y_train={y_train.shape}')\n",
    "print(f'x_test={x_test.shape}, y_test={y_test.shape}')\n"
   ]
  },
  {
   "cell_type": "code",
   "execution_count": 5,
   "metadata": {},
   "outputs": [
    {
     "data": {
      "text/plain": [
       "torch.float64"
      ]
     },
     "execution_count": 5,
     "metadata": {},
     "output_type": "execute_result"
    }
   ],
   "source": [
    "x_train.dtype"
   ]
  },
  {
   "cell_type": "code",
   "execution_count": 6,
   "metadata": {},
   "outputs": [
    {
     "data": {
      "image/png": "[encoded data removed]",
      "text/plain": [
       "<Figure size 432x288 with 1 Axes>"
      ]
     },
     "metadata": {
      "needs_background": "light"
     },
     "output_type": "display_data"
    }
   ],
   "source": [
    "# Visualize X\n",
    "img = np.array(x_train[0].tolist())\n",
    "plt.imshow(img.reshape(28, 28))\n",
    "plt.show()"
   ]
  },
  {
   "cell_type": "code",
   "execution_count": 7,
   "metadata": {},
   "outputs": [],
   "source": [
    "# Multinomial sampling with replacement\n",
    "def draw_batch(batch_size): \n",
    "    draw = lambda: int(rng.random() * x_train.shape[0])\n",
    "    batch = [draw() for _ in range(batch_size)]\n",
    "    return x_train[batch], y_train[batch]"
   ]
  },
  {
   "cell_type": "code",
   "execution_count": 8,
   "metadata": {},
   "outputs": [],
   "source": [
    "def mle(x, y):\n",
    "    maximum_likelihood = (x*y).sum(axis=1)\n",
    "    nll = maximum_likelihood.log() * -1\n",
    "    return nll.sum() / len(nll.data)"
   ]
  },
  {
   "cell_type": "code",
   "execution_count": 9,
   "metadata": {},
   "outputs": [],
   "source": [
    "rng = np.random.default_rng(seed=5)\n",
    "l1_w = torch.tensor(rng.normal(size=(784, 500)), requires_grad=True)\n",
    "l1_b = torch.tensor(rng.normal(size=(500,)), requires_grad=True)\n",
    "l2_w = torch.tensor(rng.normal(size=(500, 10)), requires_grad=True)\n",
    "parameters = [l1_w, l1_b, l2_w]\n",
    "losses = []"
   ]
  },
  {
   "cell_type": "code",
   "execution_count": 10,
   "metadata": {},
   "outputs": [],
   "source": [
    "def forward(x):\n",
    "    x = l1_b + (x@l1_w)\n",
    "    x = x.tanh()\n",
    "\n",
    "    x = x@l2_w\n",
    "    x = x.exp()\n",
    "    return x / x.sum(axis=x.dim()-1).reshape((-1, 1))"
   ]
  },
  {
   "cell_type": "code",
   "execution_count": 14,
   "metadata": {},
   "outputs": [
    {
     "name": "stdout",
     "output_type": "stream",
     "text": [
      "Epoch 0: 3.9479853136896175\n",
      "Epoch 1: 8.791837415475893\n",
      "Epoch 2: 3.7404080492733423\n",
      "Epoch 3: 6.177365815863431\n",
      "Epoch 4: 1.8089995621342634\n",
      "Epoch 5: 1.2750049134733855e-05\n",
      "Epoch 6: 0.9310799240377481\n",
      "Epoch 7: 2.5081880086989273e-07\n",
      "Epoch 8: 0.005180511256755429\n",
      "Epoch 9: 12.245560840880284\n"
     ]
    }
   ],
   "source": [
    "rng = np.random.default_rng(seed=1)\n",
    "epochs = 10\n",
    "batch_size = 5\n",
    "lr = 0.1\n",
    "for e in range(epochs):\n",
    "    x, y = draw_batch(batch_size)\n",
    "    out = forward(x)\n",
    "\n",
    "    loss = mle(out, y)\n",
    "    avg = loss.data.sum().item()\n",
    "\n",
    "    loss.backward()\n",
    "\n",
    "    for p in parameters:\n",
    "        p.data -= lr * p.grad\n",
    "        p.grad = None\n",
    "\n",
    "    losses.append(avg)\n",
    "    print(f'Epoch {e}: {avg}')"
   ]
  },
  {
   "cell_type": "code",
   "execution_count": 15,
   "metadata": {},
   "outputs": [
    {
     "data": {
      "image/png": "[encoded data removed]",
      "text/plain": [
       "<Figure size 432x288 with 1 Axes>"
      ]
     },
     "metadata": {
      "needs_background": "light"
     },
     "output_type": "display_data"
    }
   ],
   "source": [
    "plt.plot(losses)\n",
    "plt.show()"
   ]
  },
  {
   "cell_type": "code",
   "execution_count": 16,
   "metadata": {},
   "outputs": [
    {
     "name": "stdout",
     "output_type": "stream",
     "text": [
      "Test accuracy: 30.070000000000004%\n"
     ]
    }
   ],
   "source": [
    "correct = 0\n",
    "for i in range(len(x_test.data)):\n",
    "    y = y_test[i]\n",
    "    x = forward(x_test[i])\n",
    "    corr = np.argmax(y.data)\n",
    "    predicted = np.argmax(x.data)\n",
    "    if predicted == corr: correct += 1\n",
    "\n",
    "print(f'Test accuracy: {(correct/len(x_test.data))*100}%')"
   ]
  },
  {
   "cell_type": "code",
   "execution_count": null,
   "metadata": {},
   "outputs": [],
   "source": []
  }
 ],
 "metadata": {
  "kernelspec": {
   "display_name": "Python 3.10.6 64-bit",
   "language": "python",
   "name": "python3"
  },
  "language_info": {
   "codemirror_mode": {
    "name": "ipython",
    "version": 3
   },
   "file_extension": ".py",
   "mimetype": "text/x-python",
   "name": "python",
   "nbconvert_exporter": "python",
   "pygments_lexer": "ipython3",
   "version": "3.10.6"
  },
  "orig_nbformat": 4,
  "vscode": {
   "interpreter": {
    "hash": "916dbcbb3f70747c44a77c7bcd40155683ae19c65e1c03b4aa3499c5328201f1"
   }
  }
 },
 "nbformat": 4,
 "nbformat_minor": 2
}
