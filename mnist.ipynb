{
 "cells": [
  {
   "cell_type": "code",
   "execution_count": 1,
   "id": "fd50b5f2",
   "metadata": {},
   "outputs": [],
   "source": [
    "from src.tensor import Tensor\n",
    "import src.nn as nn\n",
    "import matplotlib.pyplot as plt\n",
    "import numpy as np\n",
    "from mnist import MNIST\n",
    "np.set_printoptions(suppress=True)"
   ]
  },
  {
   "cell_type": "code",
   "execution_count": 2,
   "id": "c9693099",
   "metadata": {},
   "outputs": [],
   "source": [
    "mndata = MNIST('./mnist_dataset/')\n",
    "mndata.gz = True\n",
    "training, test = mndata.load_training(), mndata.load_testing()"
   ]
  },
  {
   "cell_type": "code",
   "execution_count": 3,
   "id": "b2952772",
   "metadata": {},
   "outputs": [],
   "source": [
    "X = np.array(training[0] + test[0], dtype=float)\n",
    "Y = np.array(list(training[1]) + list(test[1]), dtype=int)\n",
    "\n",
    "# Scale down pixels from 0-255 to 0-1\n",
    "X = X / 255.0\n",
    "\n",
    "# OneHot label vectors\n",
    "one_hot = np.zeros((Y.size, 10)) # (70000, 10)\n",
    "one_hot[np.arange(Y.size), Y] = 1\n",
    "Y = one_hot"
   ]
  },
  {
   "cell_type": "code",
   "execution_count": 4,
   "id": "50df552d",
   "metadata": {},
   "outputs": [
    {
     "name": "stdout",
     "output_type": "stream",
     "text": [
      "Sizes: train=56000, val=7000, test=7000\n"
     ]
    }
   ],
   "source": [
    "# Split\n",
    "n = len(X)\n",
    "tr, d = int(n*0.8), int(n*0.9)\n",
    "Xtr, Xdev, Xte = Tensor(X[:tr]), Tensor(X[tr:d]), Tensor(X[d:])\n",
    "Ytr, Ydev, Yte = Tensor(Y[:tr]), Tensor(Y[tr:d]), Tensor(Y[d:])\n",
    "print(f'Sizes: train={len(Xtr)}, val={len(Xdev)}, test={len(Xte)}')"
   ]
  },
  {
   "cell_type": "code",
   "execution_count": 5,
   "id": "185d55af",
   "metadata": {},
   "outputs": [
    {
     "data": {
      "image/png": "[encoded data removed]",
      "text/plain": [
       "<Figure size 432x288 with 1 Axes>"
      ]
     },
     "metadata": {
      "needs_background": "light"
     },
     "output_type": "display_data"
    }
   ],
   "source": [
    "# Visualize X\n",
    "img = np.array(Xtr[0].tolist())\n",
    "plt.imshow(img.reshape(28, 28),cmap='gray')\n",
    "plt.show()"
   ]
  },
  {
   "cell_type": "code",
   "execution_count": 6,
   "id": "2c8ff148",
   "metadata": {},
   "outputs": [],
   "source": [
    "# Multinomial sampling with replacement\n",
    "rng = np.random.default_rng(seed=1)\n",
    "def draw_batch(batch_size): \n",
    "    draw = lambda: int(rng.random() * len(Xtr))\n",
    "    batch = [draw() for _ in range(batch_size)]\n",
    "    return Xtr[batch], Ytr[batch]\n",
    "\n",
    "def accuracy(split):\n",
    "    x, y = {'train': (Xtr, Ytr), 'dev': (Xdev, Ydev), 'test': (Xte, Yte)}[split]\n",
    "    global mlp\n",
    "    x = mlp(x) # (7000, 10)\n",
    "    correct = (x.data.argmax(1) == y.data.argmax(1)).sum()\n",
    "    acc = (correct / len(x)) * 100\n",
    "    print(f'{split}-accuracy: {acc:.2f}%')"
   ]
  },
  {
   "cell_type": "code",
   "execution_count": 7,
   "id": "f6ad381d",
   "metadata": {},
   "outputs": [],
   "source": [
    "mlp = nn.Sequential((\n",
    "    nn.Linear(784, 784), nn.BatchNorm(784),\n",
    "    nn.Relu(),\n",
    "    nn.Linear(784, 784), nn.BatchNorm(784),\n",
    "    nn.Relu(),\n",
    "    nn.Linear(784, 512), nn.BatchNorm(512),\n",
    "    nn.Relu(),\n",
    "    nn.Linear(512, 256), nn.BatchNorm(256),\n",
    "    nn.Relu(),\n",
    "    nn.Linear(256, 128), nn.BatchNorm(128),\n",
    "    nn.Relu(),\n",
    "    nn.Linear(128, 64), nn.BatchNorm(64),\n",
    "    nn.Relu(),\n",
    "    nn.Linear(64, 32), nn.BatchNorm(32),\n",
    "    nn.Relu(),\n",
    "    nn.Linear(32, 10),\n",
    "    nn.Softmax()\n",
    "))\n",
    "losses = []\n",
    "dev_losses = []"
   ]
  },
  {
   "cell_type": "code",
   "execution_count": 31,
   "id": "29bd7e1f",
   "metadata": {},
   "outputs": [
    {
     "name": "stdout",
     "output_type": "stream",
     "text": [
      "Step 0: train=0.277066918818866, val=0.247411896727504\n",
      "Step 50: train=0.13410774277671458, val=0.2633533684255563\n",
      "Step 100: train=0.7056498709173156, val=0.2529524219239741\n",
      "Step 150: train=0.11019294958727086, val=0.24922438996972174\n",
      "Step 200: train=0.26054240596810796, val=0.2494775348275461\n",
      "Step 250: train=0.7598514017621457, val=0.24964099913911605\n",
      "Step 300: train=0.6380862060206944, val=0.2479828090255329\n",
      "Step 350: train=0.30781283581354174, val=0.25127860883771397\n",
      "Step 400: train=0.5680457888725434, val=0.2462850843338619\n",
      "Step 450: train=0.45124450151806683, val=0.24826757340490163\n"
     ]
    },
    {
     "data": {
      "image/png": "[encoded data removed]",
      "text/plain": [
       "<Figure size 432x288 with 1 Axes>"
      ]
     },
     "metadata": {
      "needs_background": "light"
     },
     "output_type": "display_data"
    }
   ],
   "source": [
    "steps = 500\n",
    "batch_size = 32\n",
    "lr = 0.1\n",
    "breakpoint = -1\n",
    "for i in range(steps):\n",
    "    x, y = draw_batch(batch_size)\n",
    "    out = mlp(x)\n",
    "\n",
    "    loss = nn.nlll(out, y, reduction='mean')\n",
    "    loss.backward()\n",
    "\n",
    "    mlp.optimize(lr=lr)\n",
    "    mlp.zero_grad()\n",
    "\n",
    "    loss = loss.data.item()\n",
    "    losses.append(loss)\n",
    "    if i%50==0:\n",
    "        dev_loss = nn.nlll(mlp(Xdev), Ydev, reduction='mean').data.item()\n",
    "        dev_losses.append(dev_loss)\n",
    "        print(f'Step {i}: train={loss}, val={dev_loss}')\n",
    "\n",
    "plt.plot(losses, label='train')\n",
    "plt.plot(dev_losses, label='dev')\n",
    "plt.show()"
   ]
  },
  {
   "cell_type": "code",
   "execution_count": 32,
   "id": "c2563c92",
   "metadata": {},
   "outputs": [
    {
     "name": "stdout",
     "output_type": "stream",
     "text": [
      "dev-accuracy: 92.71%\n"
     ]
    }
   ],
   "source": [
    "accuracy('dev')"
   ]
  },
  {
   "cell_type": "code",
   "execution_count": 33,
   "id": "45bec8f4",
   "metadata": {},
   "outputs": [
    {
     "name": "stdout",
     "output_type": "stream",
     "text": [
      "test-accuracy: 93.76%\n"
     ]
    }
   ],
   "source": [
    "mlp.inference()\n",
    "accuracy('test')"
   ]
  }
 ],
 "metadata": {
  "kernelspec": {
   "display_name": "Python 3 (ipykernel)",
   "language": "python",
   "name": "python3"
  },
  "language_info": {
   "codemirror_mode": {
    "name": "ipython",
    "version": 3
   },
   "file_extension": ".py",
   "mimetype": "text/x-python",
   "name": "python",
   "nbconvert_exporter": "python",
   "pygments_lexer": "ipython3",
   "version": "3.10.6"
  },
  "vscode": {
   "interpreter": {
    "hash": "916dbcbb3f70747c44a77c7bcd40155683ae19c65e1c03b4aa3499c5328201f1"
   }
  }
 },
 "nbformat": 4,
 "nbformat_minor": 5
}
